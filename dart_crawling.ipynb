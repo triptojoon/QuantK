{
 "cells": [
  {
   "cell_type": "code",
   "execution_count": null,
   "metadata": {},
   "outputs": [],
   "source": [
    "dart_api1 = '0e3221f05a6a08fbfafbadeaedf57b71f6c74383' #gmail\n",
    "dart_api2 = '6ff4bb1d83a84b7e471d6a5265510619cb86a5a8' #nate\n",
    "dart_api3 = '02fe6b29f143c51da3b2489c55f9183da77ea930' #naver\n",
    "dart_api4 = '019d81f8662b7da731f28b2ebbdb20405621b620' #jh_gmail\n",
    "dart_api5 = 'e939c83e5ca523aa19e6fc4b7763045dc2d46334' #jh_naver\n",
    "dart_api6 = '820ae59bd55ca0826e50ac253795ee2acedaa4ed' #jh_gmail2\n",
    "dart_api7 = 'b11bee34ccc52a704528855b10381b1f58ab1381' #hanmail \n",
    "dart_api8 = '09e27a5f2b4a41262e5c28115d74cb11efc76789' #hanmail \n",
    "dart_api9 = '6b7c842b3cf2ec4a6b8e4988fa4a668d327d90ff' #gmail2\n",
    "dart_api10 = '0a13cfae6e5b6ea30c48e29e0cb41100848aa9ce' #gmail3\n",
    "dart_api11 = '53f014eb00848420936f900073e7cbdb0f2bdf64' #gmail4\n",
    "dart_api12 = 'd45767c163af35e5c9eb60f1b7eb0eedc6cb3868' #gmail5\n",
    "dart_api13 = '0394444e2914ef93662a8c962b1ae28107a63af3' #gmail6"
   ]
  },
  {
   "cell_type": "code",
   "execution_count": 1,
   "metadata": {},
   "outputs": [
    {
     "data": {
      "application/vnd.jupyter.widget-view+json": {
       "model_id": "3118ebcf2865425ab392a05bb5670062",
       "version_major": 2,
       "version_minor": 0
      },
      "text/plain": [
       "Output()"
      ]
     },
     "metadata": {},
     "output_type": "display_data"
    },
    {
     "data": {
      "application/vnd.jupyter.widget-view+json": {
       "model_id": "157b08405565454daa5f6d0191725c15",
       "version_major": 2,
       "version_minor": 0
      },
      "text/plain": [
       "Output()"
      ]
     },
     "metadata": {},
     "output_type": "display_data"
    },
    {
     "data": {
      "application/vnd.jupyter.widget-view+json": {
       "model_id": "de8ea12ac4524087b47565a6cef218fc",
       "version_major": 2,
       "version_minor": 0
      },
      "text/plain": [
       "Output()"
      ]
     },
     "metadata": {},
     "output_type": "display_data"
    },
    {
     "ename": "ValueError",
     "evalue": "No axis named 599 for object type DataFrame",
     "output_type": "error",
     "traceback": [
      "\u001b[0;31m---------------------------------------------------------------------------\u001b[0m",
      "\u001b[0;31mKeyError\u001b[0m                                  Traceback (most recent call last)",
      "\u001b[0;32m/usr/local/lib/python3.8/dist-packages/pandas/core/generic.py\u001b[0m in \u001b[0;36m_get_axis_number\u001b[0;34m(cls, axis)\u001b[0m\n\u001b[1;32m    367\u001b[0m         \u001b[0;32mtry\u001b[0m\u001b[0;34m:\u001b[0m\u001b[0;34m\u001b[0m\u001b[0;34m\u001b[0m\u001b[0m\n\u001b[0;32m--> 368\u001b[0;31m             \u001b[0;32mreturn\u001b[0m \u001b[0mcls\u001b[0m\u001b[0;34m.\u001b[0m\u001b[0m_AXIS_TO_AXIS_NUMBER\u001b[0m\u001b[0;34m[\u001b[0m\u001b[0maxis\u001b[0m\u001b[0;34m]\u001b[0m\u001b[0;34m\u001b[0m\u001b[0;34m\u001b[0m\u001b[0m\n\u001b[0m\u001b[1;32m    369\u001b[0m         \u001b[0;32mexcept\u001b[0m \u001b[0mKeyError\u001b[0m\u001b[0;34m:\u001b[0m\u001b[0;34m\u001b[0m\u001b[0;34m\u001b[0m\u001b[0m\n",
      "\u001b[0;31mKeyError\u001b[0m: 599",
      "\nDuring handling of the above exception, another exception occurred:\n",
      "\u001b[0;31mValueError\u001b[0m                                Traceback (most recent call last)",
      "\u001b[0;32m<ipython-input-1-4e18366d9ee1>\u001b[0m in \u001b[0;36m<module>\u001b[0;34m\u001b[0m\n\u001b[1;32m     35\u001b[0m \u001b[0mtotal_list\u001b[0m \u001b[0;34m=\u001b[0m \u001b[0;34m[\u001b[0m\u001b[0;34m]\u001b[0m\u001b[0;34m\u001b[0m\u001b[0;34m\u001b[0m\u001b[0m\n\u001b[1;32m     36\u001b[0m \u001b[0;34m\u001b[0m\u001b[0m\n\u001b[0;32m---> 37\u001b[0;31m \u001b[0mprint\u001b[0m\u001b[0;34m(\u001b[0m\u001b[0mcompany_df\u001b[0m\u001b[0;34m.\u001b[0m\u001b[0miloc\u001b[0m\u001b[0;34m(\u001b[0m\u001b[0;36m599\u001b[0m\u001b[0;34m)\u001b[0m\u001b[0;34m)\u001b[0m\u001b[0;34m\u001b[0m\u001b[0;34m\u001b[0m\u001b[0m\n\u001b[0m\u001b[1;32m     38\u001b[0m \u001b[0mprint\u001b[0m\u001b[0;34m(\u001b[0m\u001b[0mbbbbbbqqq\u001b[0m\u001b[0;34m)\u001b[0m\u001b[0;34m\u001b[0m\u001b[0;34m\u001b[0m\u001b[0m\n\u001b[1;32m     39\u001b[0m \u001b[0;31m#for ix in range(778, len(company_df)):\u001b[0m\u001b[0;34m\u001b[0m\u001b[0;34m\u001b[0m\u001b[0;34m\u001b[0m\u001b[0m\n",
      "\u001b[0;32m/usr/local/lib/python3.8/dist-packages/pandas/core/indexing.py\u001b[0m in \u001b[0;36m__call__\u001b[0;34m(self, axis)\u001b[0m\n\u001b[1;32m    582\u001b[0m \u001b[0;34m\u001b[0m\u001b[0m\n\u001b[1;32m    583\u001b[0m         \u001b[0;32mif\u001b[0m \u001b[0maxis\u001b[0m \u001b[0;32mis\u001b[0m \u001b[0;32mnot\u001b[0m \u001b[0;32mNone\u001b[0m\u001b[0;34m:\u001b[0m\u001b[0;34m\u001b[0m\u001b[0;34m\u001b[0m\u001b[0m\n\u001b[0;32m--> 584\u001b[0;31m             \u001b[0maxis\u001b[0m \u001b[0;34m=\u001b[0m \u001b[0mself\u001b[0m\u001b[0;34m.\u001b[0m\u001b[0mobj\u001b[0m\u001b[0;34m.\u001b[0m\u001b[0m_get_axis_number\u001b[0m\u001b[0;34m(\u001b[0m\u001b[0maxis\u001b[0m\u001b[0;34m)\u001b[0m\u001b[0;34m\u001b[0m\u001b[0;34m\u001b[0m\u001b[0m\n\u001b[0m\u001b[1;32m    585\u001b[0m         \u001b[0mnew_self\u001b[0m\u001b[0;34m.\u001b[0m\u001b[0maxis\u001b[0m \u001b[0;34m=\u001b[0m \u001b[0maxis\u001b[0m\u001b[0;34m\u001b[0m\u001b[0;34m\u001b[0m\u001b[0m\n\u001b[1;32m    586\u001b[0m         \u001b[0;32mreturn\u001b[0m \u001b[0mnew_self\u001b[0m\u001b[0;34m\u001b[0m\u001b[0;34m\u001b[0m\u001b[0m\n",
      "\u001b[0;32m/usr/local/lib/python3.8/dist-packages/pandas/core/generic.py\u001b[0m in \u001b[0;36m_get_axis_number\u001b[0;34m(cls, axis)\u001b[0m\n\u001b[1;32m    368\u001b[0m             \u001b[0;32mreturn\u001b[0m \u001b[0mcls\u001b[0m\u001b[0;34m.\u001b[0m\u001b[0m_AXIS_TO_AXIS_NUMBER\u001b[0m\u001b[0;34m[\u001b[0m\u001b[0maxis\u001b[0m\u001b[0;34m]\u001b[0m\u001b[0;34m\u001b[0m\u001b[0;34m\u001b[0m\u001b[0m\n\u001b[1;32m    369\u001b[0m         \u001b[0;32mexcept\u001b[0m \u001b[0mKeyError\u001b[0m\u001b[0;34m:\u001b[0m\u001b[0;34m\u001b[0m\u001b[0;34m\u001b[0m\u001b[0m\n\u001b[0;32m--> 370\u001b[0;31m             \u001b[0;32mraise\u001b[0m \u001b[0mValueError\u001b[0m\u001b[0;34m(\u001b[0m\u001b[0;34mf\"No axis named {axis} for object type {cls.__name__}\"\u001b[0m\u001b[0;34m)\u001b[0m\u001b[0;34m\u001b[0m\u001b[0;34m\u001b[0m\u001b[0m\n\u001b[0m\u001b[1;32m    371\u001b[0m \u001b[0;34m\u001b[0m\u001b[0m\n\u001b[1;32m    372\u001b[0m     \u001b[0;34m@\u001b[0m\u001b[0mclassmethod\u001b[0m\u001b[0;34m\u001b[0m\u001b[0;34m\u001b[0m\u001b[0m\n",
      "\u001b[0;31mValueError\u001b[0m: No axis named 599 for object type DataFrame"
     ]
    }
   ],
   "source": [
    "import dart_fss as dart\n",
    "from parse import * \n",
    "import pandas as pd\n",
    "import numpy as np\n",
    "import sqlalchemy as sql\n",
    "import sys\n",
    "\n",
    "connect_string = 'mysql://quantk:znjsxm!!@@DB12@localhost:3377/quantk?charset=utf8'\n",
    "sql_engine = sql.create_engine(connect_string, encoding='utf-8')\n",
    "query = \"SELECT `종목코드`, `종목명` FROM `종목마스터`\"\n",
    "company_df = pd.read_sql_query(query, sql_engine)\n",
    "\n",
    "# Open DART API KEY 설정\n",
    "api_key='0a13cfae6e5b6ea30c48e29e0cb41100848aa9ce'\n",
    "dart.set_api_key(api_key=api_key)\n",
    "\n",
    "# DART 에 공시된 회사 리스트 불러오기\n",
    "corp_list = dart.get_corp_list()\n",
    "\n",
    "def get_value(DF, value_list, number):\n",
    "    while True:\n",
    "        for values in value_list:\n",
    "            result = DF.loc[DF[DF.columns[0]] == values].iloc[:, number]\n",
    "            if not result.empty:\n",
    "                break\n",
    "        break \n",
    "    if result.empty:\n",
    "        return np.nan\n",
    "    else:\n",
    "        return result.iloc[0]\n",
    "\n",
    "class empty_reports:\n",
    "    report_list = []\n",
    "    \n",
    "total_list = []\n",
    "\n",
    "\n",
    "#for ix in range(778, len(company_df)):\n",
    "for ix in range(0, len(company_df)): \n",
    "    종목코드 = company_df.iloc[ix]['종목코드']\n",
    "    종목명 = company_df.iloc[ix]['종목명']\n",
    "    회사정보 = corp_list.find_by_stock_code(종목코드)\n",
    "    print(ix, 종목코드, 종목명)\n",
    "    if not 회사정보 == None:\n",
    "        try:\n",
    "            reports = 회사정보.search_filings(bgn_de='20181001', end_de='20190831', pblntf_detail_ty=['a001', 'a002', 'a003'], page_count=100)\n",
    "        except:\n",
    "            reports = empty_reports()\n",
    "        for x, y in enumerate(reports.report_list):\n",
    "            if parse(\"{}({})\", y.report_nm)[1] in ['2019.06', '2019.03', '2018.12', '2018.09']:\n",
    "                xbrl = reports[x].xbrl\n",
    "                if not xbrl == None:\n",
    "                    if xbrl.exist_consolidated():\n",
    "                        IS = xbrl.get_income_statement(separate=False)\n",
    "                    else:\n",
    "                        IS = xbrl.get_income_statement(separate=True)\n",
    "                    try:\n",
    "                        DF = IS[0].to_DataFrame(show_class=False, separator=False)\n",
    "                        print(DF.iloc[:, 0:2])\n",
    "                        unit_result = parse(\"{}(Unit: {})\", DF.columns[0][0])[1]\n",
    "                        DF = DF.drop([DF.columns[1], DF.columns[2]], axis =1)\n",
    "                    except:\n",
    "                        DF = pd.DataFrame()\n",
    "                        print(DF)\n",
    "                    #print(DF)\n",
    "                    for j in range(1, len(DF.columns)):\n",
    "                        #print(DF.columns[j])\n",
    "\n",
    "                        리포트이름 = reports[x].report_nm\n",
    "                        구분정보 = parse('{}보고서{}', 리포트이름)[0][-2:]\n",
    "                        구분딕트 = {'사업': '연간', '반기':'2분기누적', '분기':'3분기누적'}\n",
    "\n",
    "                        회계구분 = DF.columns[j][1][0]\n",
    "                        회계딕트 = {'연결재무제표' : 'IFRS연결', '별도재무제표': 'KIFRS별도'}\n",
    "\n",
    "                        기간정보 = DF.columns[j][0]\n",
    "                        날짜정보 = parse('{}-{}', DF.columns[j][0])\n",
    "                        시작분기 = pd.to_datetime(날짜정보[0]).quarter\n",
    "                        년도 = pd.to_datetime(날짜정보[1]).year\n",
    "                        분기 = pd.to_datetime(날짜정보[1]).quarter\n",
    "\n",
    "                        if 시작분기 == 분기:\n",
    "                            분기구분 = '분기'\n",
    "                        elif 시작분기 != 분기:\n",
    "                            분기구분 = 구분딕트[구분정보]\n",
    "\n",
    "                        매출 = get_value(DF, ['ifrs_Revenue', 'ifrs-full_Revenue'], j)\n",
    "                        영업이익 = get_value(DF, ['dart_OperatingIncomeLoss'], j)\n",
    "                        당기순이익 = get_value(DF, ['ifrs_ProfitLoss', 'ifrs-full_ProfitLoss'], j)\n",
    "                        매출총이익 = get_value(DF, ['ifrs_GrossProfit', 'ifrs-full_GrossProfit'], j)\n",
    "                        지배주주순이익 = get_value(DF, ['ifrs_ProfitLossAttributableToOwnersOfParent', 'ifrs-full_ProfitLossAttributableToOwnersOfParent'], j)\n",
    "\n",
    "                        result = [종목코드, 종목명, 분기구분, 회계딕트[회계구분], 년도, 분기, unit_result, 기간정보, 매출, 영업이익, 당기순이익, 지배주주순이익, 매출총이익]\n",
    "                        #print(result)\n",
    "                        total_list.append(result)\n",
    "\n",
    "dart_df = pd.DataFrame(total_list, columns= ['종목코드', '종목명', '구분', '회계', '년도', '분기', '단위', '회계기간', '매출액(수익)', '영업이익', '당기순이익', '지배주주순이익', '매출총이익'])\n",
    "dart_df\n"
   ]
  },
  {
   "cell_type": "code",
   "execution_count": 2,
   "metadata": {},
   "outputs": [
    {
     "name": "stdout",
     "output_type": "stream",
     "text": [
      "종목코드    016710\n",
      "종목명      대성홀딩스\n",
      "Name: 599, dtype: object\n"
     ]
    }
   ],
   "source": [
    "print(company_df.iloc[599])\n"
   ]
  },
  {
   "cell_type": "code",
   "execution_count": null,
   "metadata": {},
   "outputs": [],
   "source": [
    "dart_df.insert(loc=0, column='No', value=None)\n",
    "No_list = []\n",
    "for i in range(0, len(dart_df)):\n",
    "    No_list.append(i+1)\n",
    "dart_df['No'] = No_list\n",
    "\n",
    "dtype = {\n",
    "   'No': sql.types.BIGINT(),\n",
    "    '종목코드': sql.types.VARCHAR(6), \n",
    "    '종목명': sql.types.VARCHAR(50), \n",
    "    '구분': sql.types.VARCHAR(11),\n",
    "    '회계': sql.types.VARCHAR(11),\n",
    "    '년도': sql.types.INTEGER(),\n",
    "    '분기': sql.types.INTEGER(), \n",
    "    '단위': sql.types.VARCHAR(11), \n",
    "    '회계기간': sql.types.VARCHAR(50)\n",
    "}\n",
    "\n",
    "for i in list(dart_df.columns)[9:]:\n",
    "    dtype[i] = sql.types.FLOAT() \n",
    "    \n",
    "dart_df.to_sql(name=\"DART크롤링데이터_rawdata\", con=sql_engine, if_exists='replace', index=False, \n",
    "             dtype = dtype)\n",
    "\n",
    "with sql_engine.connect() as con:\n",
    "    con.execute('ALTER TABLE `DART크롤링데이터_rawdata` ADD PRIMARY KEY(`No`);')\n",
    "    con.execute('ALTER TABLE `DART크롤링데이터_rawdata` CHANGE `No` `No` BIGINT(20) NOT NULL AUTO_INCREMENT;')\n",
    "    con.execute('ALTER TABLE `DART크롤링데이터_rawdata` ADD INDEX(`종목코드`);')\n",
    "\n",
    "    "
   ]
  },
  {
   "cell_type": "code",
   "execution_count": null,
   "metadata": {},
   "outputs": [],
   "source": [
    "dart_df\n",
    "#No col 추가되어있으면 append 완료 \n",
    "#append 해야함 \n"
   ]
  },
  {
   "cell_type": "code",
   "execution_count": null,
   "metadata": {},
   "outputs": [],
   "source": [
    "connect_string = 'mysql://quantk:znjsxm!!@@DB12@localhost:3377/quantk?charset=utf8'\n",
    "sql_engine = sql.create_engine(connect_string, encoding='utf-8')\n",
    "\n",
    "#dart_df.insert(loc=0, column='No', value=None)\n",
    "\n",
    "dtype = {\n",
    "   'No': sql.types.BIGINT(),\n",
    "    '종목코드': sql.types.VARCHAR(6), \n",
    "    '종목명': sql.types.VARCHAR(50), \n",
    "    '구분': sql.types.VARCHAR(11),\n",
    "    '회계': sql.types.VARCHAR(11),\n",
    "    '년도': sql.types.INTEGER(),\n",
    "    '분기': sql.types.INTEGER(), \n",
    "    '단위': sql.types.VARCHAR(11), \n",
    "    '회계기간': sql.types.VARCHAR(50)\n",
    "}\n",
    "\n",
    "for i in list(dart_df.columns)[9:]:\n",
    "    dtype[i] = sql.types.FLOAT() \n",
    "    \n",
    "dart_df.to_sql(name=\"DART크롤링데이터_rawdata\", con=sql_engine, if_exists='append', index=False, \n",
    "             dtype = dtype)\n",
    "\n"
   ]
  },
  {
   "cell_type": "code",
   "execution_count": null,
   "metadata": {},
   "outputs": [],
   "source": []
  },
  {
   "cell_type": "code",
   "execution_count": null,
   "metadata": {},
   "outputs": [],
   "source": [
    "import pandas as pd\n",
    "import numpy as np\n",
    "import sqlalchemy as sql\n",
    "connect_string = 'mysql://quantk:znjsxm!!@@DB12@localhost:3377/quantk?charset=utf8'\n",
    "sql_engine = sql.create_engine(connect_string, encoding='utf-8')\n",
    "query = \"SELECT * FROM `DART크롤링데이터_rawdata`\"\n",
    "df = pd.read_sql_query(query, sql_engine)\n",
    "\n",
    "print(df)\n",
    "df = df.drop(columns=['No'])\n",
    "df = df.drop_duplicates()\n",
    "df"
   ]
  },
  {
   "cell_type": "code",
   "execution_count": null,
   "metadata": {},
   "outputs": [],
   "source": [
    "df.insert(loc=0, column='No', value=None)\n",
    "No_list = []\n",
    "for i in range(0, len(df)):\n",
    "    No_list.append(i+1)\n",
    "df['No'] = No_list\n",
    "\n",
    "dtype = {\n",
    "   'No': sql.types.BIGINT(),\n",
    "    '종목코드': sql.types.VARCHAR(6), \n",
    "    '종목명': sql.types.VARCHAR(50), \n",
    "    '구분': sql.types.VARCHAR(11),\n",
    "    '회계': sql.types.VARCHAR(11),\n",
    "    '년도': sql.types.INTEGER(),\n",
    "    '분기': sql.types.INTEGER(), \n",
    "    '단위': sql.types.VARCHAR(11), \n",
    "    '회계기간': sql.types.VARCHAR(50)\n",
    "}\n",
    "\n",
    "for i in list(df.columns)[9:]:\n",
    "    dtype[i] = sql.types.FLOAT() \n",
    "    \n",
    "df.to_sql(name=\"DART크롤링데이터_rawdata\", con=sql_engine, if_exists='replace', index=False, \n",
    "             dtype = dtype)\n",
    "\n",
    "with sql_engine.connect() as con:\n",
    "    con.execute('ALTER TABLE `DART크롤링데이터_rawdata` ADD PRIMARY KEY(`No`);')\n",
    "    con.execute('ALTER TABLE `DART크롤링데이터_rawdata` CHANGE `No` `No` BIGINT(20) NOT NULL AUTO_INCREMENT;')\n",
    "    con.execute('ALTER TABLE `DART크롤링데이터_rawdata` ADD INDEX(`종목코드`);')\n"
   ]
  },
  {
   "cell_type": "code",
   "execution_count": null,
   "metadata": {},
   "outputs": [],
   "source": []
  },
  {
   "cell_type": "code",
   "execution_count": null,
   "metadata": {},
   "outputs": [],
   "source": [
    "# IS, BS 필요한 항목 가져오기 \n",
    "\n",
    "import dart_fss as dart\n",
    "from parse import * \n",
    "import pandas as pd\n",
    "import numpy as np\n",
    "import sqlalchemy as sql\n",
    "\n",
    "connect_string = 'mysql://quantk:znjsxm!!@@DB12@localhost:3377/quantk?charset=utf8'\n",
    "sql_engine = sql.create_engine(connect_string, encoding='utf-8')\n",
    "query = \"SELECT `종목코드`, `종목명` FROM `종목마스터`\"\n",
    "company_df = pd.read_sql_query(query, sql_engine)\n",
    "\n",
    "# Open DART API KEY 설정\n",
    "api_key='e939c83e5ca523aa19e6fc4b7763045dc2d46334'\n",
    "dart.set_api_key(api_key=api_key)\n",
    "\n",
    "# DART 에 공시된 회사 리스트 불러오기\n",
    "corp_list = dart.get_corp_list()\n",
    "\n",
    "def get_value(DF, value_list, number):\n",
    "    while True:\n",
    "        for values in value_list:\n",
    "            result = DF.loc[DF[DF.columns[0]] == values].iloc[:, number]\n",
    "            if not result.empty:\n",
    "                break\n",
    "        break \n",
    "    if result.empty:\n",
    "        return np.nan\n",
    "    else:\n",
    "        return result.iloc[0]\n",
    "\n",
    "def get_dict_value(dictionary, key, fin):\n",
    "    if not key in dictionary.keys():\n",
    "        if fin == 'IS':\n",
    "            return [np.nan, np.nan, np.nan, np.nan, np.nan, np.nan, np.nan, np.nan]\n",
    "        elif fin == 'BS':\n",
    "            return [np.nan, np.nan, np.nan, np.nan, np.nan, np.nan, np.nan, np.nan, np.nan, np.nan, np.nan, np.nan, np.nan, np.nan, np.nan]\n",
    "        elif fin == 'CF':\n",
    "            return [np.nan, np.nan, np.nan]\n",
    "    else:\n",
    "        return dictionary[key]\n",
    "\n",
    "def change_to_DF(table):\n",
    "    try:\n",
    "        result_DF = table[0].to_DataFrame(show_class=False, separator=False)\n",
    "        return result_DF\n",
    "    except:\n",
    "        return pd.DataFrame()\n",
    "\n",
    "class empty_reports:\n",
    "    report_list = []\n",
    "    \n",
    "total_list = []\n",
    "\n",
    "for ix in range(0 , len(company_df)): \n",
    "    종목코드 = company_df.iloc[ix]['종목코드']\n",
    "    종목명 = company_df.iloc[ix]['종목명']\n",
    "    회사정보 = corp_list.find_by_stock_code(종목코드)\n",
    "    print(ix, 종목코드, 종목명)\n",
    "    if not 회사정보 == None:\n",
    "        try:\n",
    "            reports = 회사정보.search_filings(bgn_de='20181001', end_de='20190831', pblntf_detail_ty=['a001', 'a002', 'a003'], page_count=100)\n",
    "        except:\n",
    "            reports = empty_reports()\n",
    "        for x, y in enumerate(reports.report_list):\n",
    "            if parse(\"{}({})\", y.report_nm)[1] in ['2019.06', '2019.03', '2018.12', '2018.09']:\n",
    "                print(y.report_nm)\n",
    "                xbrl = reports[x].xbrl\n",
    "                if not xbrl == None:\n",
    "                    if xbrl.exist_consolidated():\n",
    "                        IS = xbrl.get_income_statement(separate=False)\n",
    "                        BS = xbrl.get_financial_statement(separate=False)\n",
    "                        CF = xbrl.get_cash_flows(separate=False)\n",
    "                    else:\n",
    "                        IS = xbrl.get_income_statement(separate=True)\n",
    "                        BS = xbrl.get_financial_statement(separate=True)\n",
    "                        CF = xbrl.get_cash_flows(separate=True)\n",
    "                        \n",
    "                    IS_DF = change_to_DF(IS)\n",
    "                    BS_DF = change_to_DF(BS)\n",
    "                    CF_DF = change_to_DF(CF)\n",
    "                    \n",
    "                    if not BS_DF.empty:\n",
    "                        for 필요한항목 in ['투자자산', '유동성장기부채']:\n",
    "                            if 필요한항목 in list(BS_DF[BS_DF.columns[1]]):\n",
    "                                print(필요한항목)\n",
    "                                index_n = BS_DF[BS_DF.columns[1]][BS_DF[BS_DF.columns[1]] == 필요한항목].index[0]\n",
    "                                print(BS_DF[BS_DF.columns[0]][index_n])\n",
    "                                \n",
    "                    if not IS_DF.empty:\n",
    "                        IS_DF = IS_DF.drop([IS_DF.columns[1], IS_DF.columns[2]], axis =1)\n",
    "                    if not BS_DF.empty:\n",
    "                        BS_DF = BS_DF.drop([BS_DF.columns[1], BS_DF.columns[2]], axis =1)\n",
    "                    if not CF_DF.empty:\n",
    "                        CF_DF = CF_DF.drop([CF_DF.columns[1], CF_DF.columns[2]], axis =1)\n",
    "                    \n",
    "                    if not IS_DF.empty:\n",
    "                        IS_unit_result = parse(\"{}(Unit: {})\", IS_DF.columns[0][0])[1]\n",
    "                    else:\n",
    "                        IS_unit_result = np.nan\n",
    "                    if not BS_DF.empty:    \n",
    "                        BS_unit_result = parse(\"{}(Unit: {})\", BS_DF.columns[0][0])[1]\n",
    "                    else:\n",
    "                        BS_unit_result = np.nan\n",
    "                    if not CF_DF.empty:\n",
    "                        CF_unit_result = parse(\"{}(Unit: {})\", CF_DF.columns[0][0])[1]\n",
    "                    else:\n",
    "                        CF_unit_result = np.nan\n",
    "\n",
    "                    if IS_unit_result == BS_unit_result == CF_unit_result:\n",
    "                        pass\n",
    "                    else:\n",
    "                        print(IS_unit_result, BS_unit_result ,CF_unit_result)\n",
    "                    \n",
    "                    IS_dict = {}\n",
    "                    BS_dict = {}\n",
    "                    CF_dict = {}\n",
    "\n",
    "                    for j in range(1, len(IS_DF.columns)):\n",
    "                        리포트이름 = reports[x].report_nm\n",
    "                        구분정보 = parse('{}보고서{}', 리포트이름)[0][-2:]\n",
    "                        구분딕트 = {'사업': '연간', '반기':'2분기누적', '분기':'3분기누적'}\n",
    "\n",
    "                        회계구분 = IS_DF.columns[j][1][0]\n",
    "                        회계딕트 = {'연결재무제표' : 'IFRS연결', '별도재무제표': 'KIFRS별도'}\n",
    "\n",
    "                        #기간정보 = IS_DF.columns[j][0]\n",
    "                        날짜정보 = parse('{}-{}', IS_DF.columns[j][0])\n",
    "                        시작분기 = pd.to_datetime(날짜정보[0]).quarter\n",
    "                        년도 = pd.to_datetime(날짜정보[1]).year\n",
    "                        분기 = pd.to_datetime(날짜정보[1]).quarter\n",
    "\n",
    "                        if 시작분기 == 분기:\n",
    "                            분기구분 = '분기'\n",
    "                        elif 시작분기 != 분기:\n",
    "                            분기구분 = 구분딕트[구분정보]\n",
    "\n",
    "                        매출 = get_value(IS_DF, ['ifrs_Revenue', 'ifrs-full_Revenue'], j)\n",
    "                        영업이익 = get_value(IS_DF, ['dart_OperatingIncomeLoss'], j)\n",
    "                        당기순이익 = get_value(IS_DF, ['ifrs_ProfitLoss', 'ifrs-full_ProfitLoss'], j)\n",
    "                        매출총이익 = get_value(IS_DF, ['ifrs_GrossProfit', 'ifrs-full_GrossProfit'], j)\n",
    "                        지배주주순이익 = get_value(IS_DF, ['ifrs_ProfitLossAttributableToOwnersOfParent', 'ifrs-full_ProfitLossAttributableToOwnersOfParent'], j)\n",
    "                        매출원가 = get_value(IS_DF, ['ifrs_CostOfSales', 'ifrs-full_CostOfSales'], j)\n",
    "                        기본주당이익 = get_value(IS_DF, ['ifrs_BasicEarningsLossPerShare', 'ifrs-full_BasicEarningsLossPerShare'], j)\n",
    "                        희석주당이익 = get_value(IS_DF, ['ifrs_DilutedEarningsLossPerShare', 'ifrs-full_DilutedEarningsLossPerShare'], j)\n",
    "                        IS_dict[(분기구분, 회계딕트[회계구분], 년도, 분기, IS_unit_result)] = [매출, 매출원가, 매출총이익, 영업이익, 당기순이익,지배주주순이익, 기본주당이익, 희석주당이익]\n",
    "                        \n",
    "                    for j in range(1, len(BS_DF.columns)):\n",
    "                        리포트이름 = reports[x].report_nm\n",
    "                        구분정보 = parse('{}보고서{}', 리포트이름)[0][-2:]\n",
    "                        구분딕트 = {4: '연간', 2:'2분기누적', 3:'3분기누적'}\n",
    "\n",
    "                        회계구분 = BS_DF.columns[j][1][0]\n",
    "                        회계딕트 = {'연결재무제표' : 'IFRS연결', '별도재무제표': 'KIFRS별도'}\n",
    "\n",
    "                        기간정보 = BS_DF.columns[j][0]\n",
    "                        년도 = pd.to_datetime(기간정보).year\n",
    "                        분기 = pd.to_datetime(기간정보).quarter\n",
    "\n",
    "                        if 분기 == 1:\n",
    "                            분기구분 = '분기'\n",
    "                        else: \n",
    "                            분기구분 = 구분딕트[분기]\n",
    "                            \n",
    "                        자산총계 = get_value(BS_DF, ['ifrs_Assets', 'ifrs-full_Assets'], j)\n",
    "                        유동자산 = get_value(BS_DF, ['ifrs_CurrentAssets', 'ifrs-full_CurrentAssets'], j)\n",
    "                        재고자산 = get_value(BS_DF, ['ifrs_Inventories', 'ifrs-full_Inventories'], j)\n",
    "                        투자자산 = get_value(BS_DF, ['ifrs-full_InvestmentsInSubsidiariesJointVenturesAndAssociates', 'ifrs_InvestmentsInSubsidiariesJointVenturesAndAssociates', 'ifrs_InvestmentProperty', 'ifrs-full_InvestmentProperty'], j)\n",
    "                        유형자산 = get_value(BS_DF, ['ifrs_PropertyPlantAndEquipment', 'ifrs-full_PropertyPlantAndEquipment'], j)\n",
    "\n",
    "                        부채총계 = get_value(BS_DF, ['ifrs_Liabilities', 'ifrs-full_Liabilities'], j)\n",
    "                        유동부채 = get_value(BS_DF, ['ifrs_CurrentLiabilities', 'ifrs-full_CurrentLiabilities'], j)\n",
    "                        장기차입금 = get_value(BS_DF, ['dart_LongTermBorrowingsGross'], j)\n",
    "                        차입금 = get_value(BS_DF, ['ifrs_ShorttermBorrowings', 'ifrs-full_ShorttermBorrowings'], j)\n",
    "                        사채 = get_value(BS_DF, ['dart_BondsIssued'], j)\n",
    "                        유동성장기부채 = get_value(BS_DF, ['ifrs-full_CurrentPortionOfLongtermBorrowings', 'ifrs_CurrentPortionOfLongtermBorrowings'], j) #, 'entity00101628_udf_BS_2020115165953478_CurrentLiabilities'\n",
    "\n",
    "                        자본총계 = get_value(BS_DF, ['ifrs_Equity', 'ifrs-full_Equity'], j)\n",
    "                        지배주주자본 = get_value(BS_DF, ['ifrs_EquityAttributableToOwnersOfParent', 'ifrs-full_EquityAttributableToOwnersOfParent'], j)\n",
    "                        매출채권및기타채권 = get_value(BS_DF, ['ifrs_TradeAndOtherCurrentReceivables', 'ifrs-full_TradeAndOtherCurrentReceivables'], j)\n",
    "                        매출채권 = get_value(BS_DF, ['dart_ShortTermTradeReceivable'], j)\n",
    "                        \n",
    "                        #주식수 = get_value(DF, '', j)\n",
    "                        \n",
    "                        if 분기 == 1:\n",
    "                            BS_dict[('분기', 회계딕트[회계구분], 년도, 분기, BS_unit_result)] = [자산총계, 유동자산, 재고자산, 투자자산, 유형자산, 부채총계, 유동부채, 장기차입금, 차입금, 사채, 유동성장기부채, 자본총계, 지배주주자본, 매출채권및기타채권, 매출채권]\n",
    "                        else:\n",
    "                            BS_dict[(분기구분, 회계딕트[회계구분], 년도, 분기, BS_unit_result)] = [자산총계, 유동자산, 재고자산, 투자자산, 유형자산, 부채총계, 유동부채, 장기차입금, 차입금, 사채, 유동성장기부채, 자본총계, 지배주주자본, 매출채권및기타채권, 매출채권]\n",
    "                            BS_dict[('분기', 회계딕트[회계구분], 년도, 분기, BS_unit_result)] = [자산총계, 유동자산, 재고자산, 투자자산, 유형자산, 부채총계, 유동부채, 장기차입금, 차입금, 사채, 유동성장기부채, 자본총계, 지배주주자본, 매출채권및기타채권, 매출채권]\n",
    "                        \n",
    "                        \n",
    "                    for j in range(1, len(CF_DF.columns)):\n",
    "                        리포트이름 = reports[x].report_nm\n",
    "                        구분정보 = parse('{}보고서{}', 리포트이름)[0][-2:]\n",
    "                        구분딕트 = {'사업': '연간', '반기':'2분기누적', '분기':'3분기누적'}\n",
    "\n",
    "                        회계구분 = CF_DF.columns[j][1][0]\n",
    "                        회계딕트 = {'연결재무제표' : 'IFRS연결', '별도재무제표': 'KIFRS별도'}\n",
    "\n",
    "                        #기간정보 = CF_DF.columns[j][0]\n",
    "                        날짜정보 = parse('{}-{}', CF_DF.columns[j][0])\n",
    "                        if not 날짜정보 == None:\n",
    "                            시작분기 = pd.to_datetime(날짜정보[0]).quarter\n",
    "                            년도 = pd.to_datetime(날짜정보[1]).year\n",
    "                            분기 = pd.to_datetime(날짜정보[1]).quarter\n",
    "                        else:\n",
    "                            시작분기 = '모름'\n",
    "                            년도 = pd.to_datetime(CF_DF.columns[j][0]).year\n",
    "                            분기 = pd.to_datetime(CF_DF.columns[j][0]).quarter\n",
    "                            \n",
    "                        if 시작분기 == 분기:\n",
    "                            분기구분 = '분기'\n",
    "                        elif 시작분기 == '모름':\n",
    "                            분기구분 = '확인필요'\n",
    "                        elif 시작분기 != 분기:\n",
    "                            분기구분 = 구분딕트[구분정보]\n",
    "                        \n",
    "                        영업활동현금흐름 = get_value(CF_DF, ['ifrs_CashFlowsFromUsedInOperatingActivities', 'ifrs-full_CashFlowsFromUsedInOperatingActivities'], j)\n",
    "                        투자활동현금흐름 = get_value(CF_DF, ['ifrs_CashFlowsFromUsedInInvestingActivities', 'ifrs-full_CashFlowsFromUsedInInvestingActivities'], j)\n",
    "                        재무활동현금흐름 = get_value(CF_DF, ['ifrs_CashFlowsFromUsedInFinancingActivities', 'ifrs-full_CashFlowsFromUsedInFinancingActivities'], j)\n",
    "\n",
    "                        CF_dict[(분기구분, 회계딕트[회계구분], 년도, 분기, CF_unit_result)] = [영업활동현금흐름, 투자활동현금흐름, 재무활동현금흐름]\n",
    "                    \n",
    "                    date_set = set(list(IS_dict.keys()) + list(BS_dict.keys()) + list(CF_dict.keys()))\n",
    "                    for x in date_set:\n",
    "                        result = [종목코드, 종목명]+list(x)+get_dict_value(IS_dict, x, 'IS')+get_dict_value(BS_dict, x, 'BS')+get_dict_value(CF_dict, x, 'CF')\n",
    "                        total_list.append(result)\n",
    "\n"
   ]
  },
  {
   "cell_type": "code",
   "execution_count": null,
   "metadata": {},
   "outputs": [],
   "source": [
    "dart_df = pd.DataFrame(total_list, columns= ['종목코드', '종목명', '구분', '회계', '년도', '분기', '단위', \n",
    "                                             '매출액', '매출원가', '매출총이익', '영업이익', '당기순이익','지배주주순이익', '기본주당이익', '희석주당이익',\n",
    "                                             '자산총계', '유동자산', '재고자산', '투자자산', '유형자산', '부채총계', '유동부채', '장기차입금', '차입금', '사채', '유동성장기부채', '자본총계', '지배주주자본', '매출채권및기타채권', '매출채권',  \n",
    "                                            '영업활동현금흐름', '투자활동현금흐름', '재무활동현금흐름'])\n",
    "dart_df\n"
   ]
  },
  {
   "cell_type": "code",
   "execution_count": null,
   "metadata": {},
   "outputs": [],
   "source": [
    "dart_df.insert(loc=0, column='No', value=None)\n",
    "\n",
    "\"\"\"No_list = []\n",
    "for i in range(0, len(dart_df)):\n",
    "    No_list.append(i+1)\n",
    "dart_df['No'] = No_list\"\"\"\n",
    "\n",
    "dtype = {\n",
    "   'No': sql.types.BIGINT(),\n",
    "    '종목코드': sql.types.VARCHAR(6), \n",
    "    '종목명': sql.types.VARCHAR(50), \n",
    "    '구분': sql.types.VARCHAR(11),\n",
    "    '회계': sql.types.VARCHAR(11),\n",
    "    '년도': sql.types.INTEGER(),\n",
    "    '분기': sql.types.INTEGER(), \n",
    "    '단위': sql.types.VARCHAR(11)\n",
    "}\n",
    "\n",
    "for i in list(dart_df.columns)[9:]:\n",
    "    dtype[i] = sql.types.FLOAT() \n",
    "\n",
    "dart_df.to_sql(name=\"DART크롤링데이터_2020년3분기\", con=sql_engine, if_exists='append', index=False, \n",
    "             dtype = dtype)\n",
    "\n",
    "\"\"\"dart_df.to_sql(name=\"DART크롤링데이터_2020년3분기\", con=sql_engine, if_exists='replace', index=False, \n",
    "             dtype = dtype)\n",
    "\n",
    "with sql_engine.connect() as con:\n",
    "    con.execute('ALTER TABLE `DART크롤링데이터_2020년3분기` ADD PRIMARY KEY(`No`);')\n",
    "    con.execute('ALTER TABLE `DART크롤링데이터_2020년3분기` CHANGE `No` `No` BIGINT(20) NOT NULL AUTO_INCREMENT;')\n",
    "    con.execute('ALTER TABLE `DART크롤링데이터_2020년3분기` ADD INDEX(`종목코드`);')\"\"\""
   ]
  },
  {
   "cell_type": "code",
   "execution_count": 53,
   "metadata": {},
   "outputs": [
    {
     "name": "stdout",
     "output_type": "stream",
     "text": [
      "500 011300 성안\n",
      "분기보고서 (2020.09)\n"
     ]
    },
    {
     "data": {
      "application/vnd.jupyter.widget-view+json": {
       "model_id": "a4380f91abeb4f2c8aab2243d6976839",
       "version_major": 2,
       "version_minor": 0
      },
      "text/plain": [
       "Output()"
      ]
     },
     "metadata": {},
     "output_type": "display_data"
    },
    {
     "data": {
      "application/vnd.jupyter.widget-view+json": {
       "model_id": "6bb98e214b1b42a4bd93d8212814386d",
       "version_major": 2,
       "version_minor": 0
      },
      "text/plain": [
       "Output()"
      ]
     },
     "metadata": {},
     "output_type": "display_data"
    },
    {
     "name": "stderr",
     "output_type": "stream",
     "text": [
      "/usr/local/lib/python3.8/dist-packages/numpy/core/_asarray.py:83: VisibleDeprecationWarning: Creating an ndarray from ragged nested sequences (which is a list-or-tuple of lists-or-tuples-or ndarrays with different lengths or shapes) is deprecated. If you meant to do this, you must specify 'dtype=object' when creating the ndarray\n",
      "  return array(a, dtype, copy=False, order=order)\n"
     ]
    },
    {
     "name": "stdout",
     "output_type": "stream",
     "text": [
      "반기보고서 (2020.06)\n"
     ]
    },
    {
     "data": {
      "application/vnd.jupyter.widget-view+json": {
       "model_id": "6ff2a853db4a49ecb3ac2a7ffa4d12e6",
       "version_major": 2,
       "version_minor": 0
      },
      "text/plain": [
       "Output()"
      ]
     },
     "metadata": {},
     "output_type": "display_data"
    },
    {
     "data": {
      "application/vnd.jupyter.widget-view+json": {
       "model_id": "ed025848ffab4aed933f53f3519215e1",
       "version_major": 2,
       "version_minor": 0
      },
      "text/plain": [
       "Output()"
      ]
     },
     "metadata": {},
     "output_type": "display_data"
    },
    {
     "name": "stdout",
     "output_type": "stream",
     "text": [
      "분기보고서 (2020.03)\n"
     ]
    },
    {
     "data": {
      "application/vnd.jupyter.widget-view+json": {
       "model_id": "db1a3798e74e4b24ba3a11228c0f383f",
       "version_major": 2,
       "version_minor": 0
      },
      "text/plain": [
       "Output()"
      ]
     },
     "metadata": {},
     "output_type": "display_data"
    },
    {
     "data": {
      "application/vnd.jupyter.widget-view+json": {
       "model_id": "96f49f11fd524eafbea520a00fc5261a",
       "version_major": 2,
       "version_minor": 0
      },
      "text/plain": [
       "Output()"
      ]
     },
     "metadata": {},
     "output_type": "display_data"
    },
    {
     "name": "stdout",
     "output_type": "stream",
     "text": [
      "사업보고서 (2019.12)\n"
     ]
    },
    {
     "data": {
      "application/vnd.jupyter.widget-view+json": {
       "model_id": "11e7faaa496c43e0b0d4518718d59f8d",
       "version_major": 2,
       "version_minor": 0
      },
      "text/plain": [
       "Output()"
      ]
     },
     "metadata": {},
     "output_type": "display_data"
    },
    {
     "data": {
      "application/vnd.jupyter.widget-view+json": {
       "model_id": "12072fb80c274d9eaeb191e4e8fb27f2",
       "version_major": 2,
       "version_minor": 0
      },
      "text/plain": [
       "Output()"
      ]
     },
     "metadata": {},
     "output_type": "display_data"
    },
    {
     "name": "stdout",
     "output_type": "stream",
     "text": [
      "분기보고서 (2019.09)\n"
     ]
    },
    {
     "data": {
      "application/vnd.jupyter.widget-view+json": {
       "model_id": "44b2426a28d742ca94e4681dde148547",
       "version_major": 2,
       "version_minor": 0
      },
      "text/plain": [
       "Output()"
      ]
     },
     "metadata": {},
     "output_type": "display_data"
    },
    {
     "data": {
      "application/vnd.jupyter.widget-view+json": {
       "model_id": "52ccc1a22ea648e79f12ec8d77ce82d3",
       "version_major": 2,
       "version_minor": 0
      },
      "text/plain": [
       "Output()"
      ]
     },
     "metadata": {},
     "output_type": "display_data"
    },
    {
     "name": "stdout",
     "output_type": "stream",
     "text": [
      "반기보고서 (2019.06)\n"
     ]
    },
    {
     "data": {
      "application/vnd.jupyter.widget-view+json": {
       "model_id": "8c4ca293041e4959b14cd6619361f71d",
       "version_major": 2,
       "version_minor": 0
      },
      "text/plain": [
       "Output()"
      ]
     },
     "metadata": {},
     "output_type": "display_data"
    },
    {
     "data": {
      "application/vnd.jupyter.widget-view+json": {
       "model_id": "ecde3aec5b894d548742e154c7748093",
       "version_major": 2,
       "version_minor": 0
      },
      "text/plain": [
       "Output()"
      ]
     },
     "metadata": {},
     "output_type": "display_data"
    },
    {
     "name": "stdout",
     "output_type": "stream",
     "text": [
      "분기보고서 (2019.03)\n"
     ]
    },
    {
     "data": {
      "application/vnd.jupyter.widget-view+json": {
       "model_id": "c54353f31fe84a248eda8190a63c8edd",
       "version_major": 2,
       "version_minor": 0
      },
      "text/plain": [
       "Output()"
      ]
     },
     "metadata": {},
     "output_type": "display_data"
    },
    {
     "data": {
      "application/vnd.jupyter.widget-view+json": {
       "model_id": "a7f92194b2b9468e8f14824b6f7e24d4",
       "version_major": 2,
       "version_minor": 0
      },
      "text/plain": [
       "Output()"
      ]
     },
     "metadata": {},
     "output_type": "display_data"
    },
    {
     "name": "stdout",
     "output_type": "stream",
     "text": [
      "사업보고서 (2018.12)\n"
     ]
    },
    {
     "data": {
      "application/vnd.jupyter.widget-view+json": {
       "model_id": "999f9b24c5f34d5680e5b8da4ee7f705",
       "version_major": 2,
       "version_minor": 0
      },
      "text/plain": [
       "Output()"
      ]
     },
     "metadata": {},
     "output_type": "display_data"
    },
    {
     "data": {
      "application/vnd.jupyter.widget-view+json": {
       "model_id": "2eb6cdd76acb4d97abcd79a083611f34",
       "version_major": 2,
       "version_minor": 0
      },
      "text/plain": [
       "Output()"
      ]
     },
     "metadata": {},
     "output_type": "display_data"
    },
    {
     "name": "stdout",
     "output_type": "stream",
     "text": [
      "분기보고서 (2018.09)\n"
     ]
    },
    {
     "data": {
      "application/vnd.jupyter.widget-view+json": {
       "model_id": "464c984141ee4908abace6716547a695",
       "version_major": 2,
       "version_minor": 0
      },
      "text/plain": [
       "Output()"
      ]
     },
     "metadata": {},
     "output_type": "display_data"
    },
    {
     "data": {
      "application/vnd.jupyter.widget-view+json": {
       "model_id": "133a5865ffae4809aac1c2b2ec6020b9",
       "version_major": 2,
       "version_minor": 0
      },
      "text/plain": [
       "Output()"
      ]
     },
     "metadata": {},
     "output_type": "display_data"
    },
    {
     "name": "stdout",
     "output_type": "stream",
     "text": [
      "501 011320 유니크\n",
      "분기보고서 (2020.09)\n"
     ]
    },
    {
     "data": {
      "application/vnd.jupyter.widget-view+json": {
       "model_id": "86049d9f4a494ce5b4204a468e3a77d7",
       "version_major": 2,
       "version_minor": 0
      },
      "text/plain": [
       "Output()"
      ]
     },
     "metadata": {},
     "output_type": "display_data"
    },
    {
     "data": {
      "application/vnd.jupyter.widget-view+json": {
       "model_id": "8398898c19fb4c4cac1353610c5ec1fb",
       "version_major": 2,
       "version_minor": 0
      },
      "text/plain": [
       "Output()"
      ]
     },
     "metadata": {},
     "output_type": "display_data"
    },
    {
     "name": "stdout",
     "output_type": "stream",
     "text": [
      "반기보고서 (2020.06)\n"
     ]
    },
    {
     "data": {
      "application/vnd.jupyter.widget-view+json": {
       "model_id": "236c5af3a27445caa8305e7c55e866ab",
       "version_major": 2,
       "version_minor": 0
      },
      "text/plain": [
       "Output()"
      ]
     },
     "metadata": {},
     "output_type": "display_data"
    },
    {
     "data": {
      "application/vnd.jupyter.widget-view+json": {
       "model_id": "b3aa6e29790c4ac6937e8bba6aaf0892",
       "version_major": 2,
       "version_minor": 0
      },
      "text/plain": [
       "Output()"
      ]
     },
     "metadata": {},
     "output_type": "display_data"
    },
    {
     "name": "stdout",
     "output_type": "stream",
     "text": [
      "분기보고서 (2020.03)\n"
     ]
    },
    {
     "data": {
      "application/vnd.jupyter.widget-view+json": {
       "model_id": "9f036bbfef3a47b49648e77bc55d028a",
       "version_major": 2,
       "version_minor": 0
      },
      "text/plain": [
       "Output()"
      ]
     },
     "metadata": {},
     "output_type": "display_data"
    },
    {
     "data": {
      "application/vnd.jupyter.widget-view+json": {
       "model_id": "bdc1840105204d42a06708ffd812fed6",
       "version_major": 2,
       "version_minor": 0
      },
      "text/plain": [
       "Output()"
      ]
     },
     "metadata": {},
     "output_type": "display_data"
    },
    {
     "name": "stdout",
     "output_type": "stream",
     "text": [
      "사업보고서 (2019.12)\n"
     ]
    },
    {
     "data": {
      "application/vnd.jupyter.widget-view+json": {
       "model_id": "0e613a77bb7c46429df702ed3fd0f92f",
       "version_major": 2,
       "version_minor": 0
      },
      "text/plain": [
       "Output()"
      ]
     },
     "metadata": {},
     "output_type": "display_data"
    },
    {
     "data": {
      "application/vnd.jupyter.widget-view+json": {
       "model_id": "aa4209a71f4647c18ddf8be598e272d3",
       "version_major": 2,
       "version_minor": 0
      },
      "text/plain": [
       "Output()"
      ]
     },
     "metadata": {},
     "output_type": "display_data"
    },
    {
     "name": "stdout",
     "output_type": "stream",
     "text": [
      "분기보고서 (2019.09)\n"
     ]
    },
    {
     "data": {
      "application/vnd.jupyter.widget-view+json": {
       "model_id": "9363417144ed4fda8ec766c194b53015",
       "version_major": 2,
       "version_minor": 0
      },
      "text/plain": [
       "Output()"
      ]
     },
     "metadata": {},
     "output_type": "display_data"
    },
    {
     "data": {
      "application/vnd.jupyter.widget-view+json": {
       "model_id": "cd552dbe44c54e09bdaa9605353da7d0",
       "version_major": 2,
       "version_minor": 0
      },
      "text/plain": [
       "Output()"
      ]
     },
     "metadata": {},
     "output_type": "display_data"
    },
    {
     "name": "stdout",
     "output_type": "stream",
     "text": [
      "반기보고서 (2019.06)\n"
     ]
    },
    {
     "data": {
      "application/vnd.jupyter.widget-view+json": {
       "model_id": "565e08e077b34f26a4ce3501a8271243",
       "version_major": 2,
       "version_minor": 0
      },
      "text/plain": [
       "Output()"
      ]
     },
     "metadata": {},
     "output_type": "display_data"
    },
    {
     "data": {
      "application/vnd.jupyter.widget-view+json": {
       "model_id": "75db3d6b4da24d4a857843e0bba8aaa4",
       "version_major": 2,
       "version_minor": 0
      },
      "text/plain": [
       "Output()"
      ]
     },
     "metadata": {},
     "output_type": "display_data"
    },
    {
     "name": "stdout",
     "output_type": "stream",
     "text": [
      "분기보고서 (2019.03)\n"
     ]
    },
    {
     "data": {
      "application/vnd.jupyter.widget-view+json": {
       "model_id": "f48a6bdcd5d7449fbd125ce75677f99e",
       "version_major": 2,
       "version_minor": 0
      },
      "text/plain": [
       "Output()"
      ]
     },
     "metadata": {},
     "output_type": "display_data"
    },
    {
     "data": {
      "application/vnd.jupyter.widget-view+json": {
       "model_id": "96503847e0c041aa865ac2ef6a5abe14",
       "version_major": 2,
       "version_minor": 0
      },
      "text/plain": [
       "Output()"
      ]
     },
     "metadata": {},
     "output_type": "display_data"
    },
    {
     "name": "stdout",
     "output_type": "stream",
     "text": [
      "사업보고서 (2018.12)\n"
     ]
    },
    {
     "data": {
      "application/vnd.jupyter.widget-view+json": {
       "model_id": "fb4827753d1c475e9ce8de8fb4edb700",
       "version_major": 2,
       "version_minor": 0
      },
      "text/plain": [
       "Output()"
      ]
     },
     "metadata": {},
     "output_type": "display_data"
    },
    {
     "data": {
      "application/vnd.jupyter.widget-view+json": {
       "model_id": "517a95c0b6af4d74a4cf54e30f6240ad",
       "version_major": 2,
       "version_minor": 0
      },
      "text/plain": [
       "Output()"
      ]
     },
     "metadata": {},
     "output_type": "display_data"
    },
    {
     "name": "stdout",
     "output_type": "stream",
     "text": [
      "분기보고서 (2018.09)\n"
     ]
    },
    {
     "data": {
      "application/vnd.jupyter.widget-view+json": {
       "model_id": "b2bf69f45ab045479d970ff9cc25c05b",
       "version_major": 2,
       "version_minor": 0
      },
      "text/plain": [
       "Output()"
      ]
     },
     "metadata": {},
     "output_type": "display_data"
    },
    {
     "data": {
      "application/vnd.jupyter.widget-view+json": {
       "model_id": "3c71e0f07f1248dc91da622f0550a2d5",
       "version_major": 2,
       "version_minor": 0
      },
      "text/plain": [
       "Output()"
      ]
     },
     "metadata": {},
     "output_type": "display_data"
    },
    {
     "name": "stdout",
     "output_type": "stream",
     "text": [
      "502 011330 유니켐\n",
      "분기보고서 (2020.09)\n"
     ]
    },
    {
     "data": {
      "application/vnd.jupyter.widget-view+json": {
       "model_id": "a6f6f9b47ba147978e22772639583121",
       "version_major": 2,
       "version_minor": 0
      },
      "text/plain": [
       "Output()"
      ]
     },
     "metadata": {},
     "output_type": "display_data"
    },
    {
     "data": {
      "application/vnd.jupyter.widget-view+json": {
       "model_id": "4c334ee4d1d54d84b515617e33b5825e",
       "version_major": 2,
       "version_minor": 0
      },
      "text/plain": [
       "Output()"
      ]
     },
     "metadata": {},
     "output_type": "display_data"
    },
    {
     "name": "stdout",
     "output_type": "stream",
     "text": [
      "반기보고서 (2020.06)\n"
     ]
    },
    {
     "data": {
      "application/vnd.jupyter.widget-view+json": {
       "model_id": "3e325a0a5c364a01b9600b671229fbe1",
       "version_major": 2,
       "version_minor": 0
      },
      "text/plain": [
       "Output()"
      ]
     },
     "metadata": {},
     "output_type": "display_data"
    },
    {
     "data": {
      "application/vnd.jupyter.widget-view+json": {
       "model_id": "d2154df3fca645ea85bbd04078310e2b",
       "version_major": 2,
       "version_minor": 0
      },
      "text/plain": [
       "Output()"
      ]
     },
     "metadata": {},
     "output_type": "display_data"
    },
    {
     "name": "stdout",
     "output_type": "stream",
     "text": [
      "분기보고서 (2020.03)\n"
     ]
    },
    {
     "data": {
      "application/vnd.jupyter.widget-view+json": {
       "model_id": "50e3856e19c24e1d87317bfe3a0ea1d1",
       "version_major": 2,
       "version_minor": 0
      },
      "text/plain": [
       "Output()"
      ]
     },
     "metadata": {},
     "output_type": "display_data"
    },
    {
     "data": {
      "application/vnd.jupyter.widget-view+json": {
       "model_id": "bba1d79824f84caa96eb7444e5c0d044",
       "version_major": 2,
       "version_minor": 0
      },
      "text/plain": [
       "Output()"
      ]
     },
     "metadata": {},
     "output_type": "display_data"
    },
    {
     "name": "stdout",
     "output_type": "stream",
     "text": [
      "[기재정정]사업보고서 (2019.12)\n"
     ]
    },
    {
     "data": {
      "application/vnd.jupyter.widget-view+json": {
       "model_id": "940a2e37ebcc4aa097bf09ca84429d93",
       "version_major": 2,
       "version_minor": 0
      },
      "text/plain": [
       "Output()"
      ]
     },
     "metadata": {},
     "output_type": "display_data"
    },
    {
     "data": {
      "application/vnd.jupyter.widget-view+json": {
       "model_id": "38db52b2eca1418caf256d14a5d15fc0",
       "version_major": 2,
       "version_minor": 0
      },
      "text/plain": [
       "Output()"
      ]
     },
     "metadata": {},
     "output_type": "display_data"
    },
    {
     "name": "stdout",
     "output_type": "stream",
     "text": [
      "분기보고서 (2019.09)\n"
     ]
    },
    {
     "data": {
      "application/vnd.jupyter.widget-view+json": {
       "model_id": "ead875955de640ddbac31729eb13f514",
       "version_major": 2,
       "version_minor": 0
      },
      "text/plain": [
       "Output()"
      ]
     },
     "metadata": {},
     "output_type": "display_data"
    },
    {
     "data": {
      "application/vnd.jupyter.widget-view+json": {
       "model_id": "55043b137d174142878eca9b5197a317",
       "version_major": 2,
       "version_minor": 0
      },
      "text/plain": [
       "Output()"
      ]
     },
     "metadata": {},
     "output_type": "display_data"
    },
    {
     "name": "stdout",
     "output_type": "stream",
     "text": [
      "반기보고서 (2019.06)\n"
     ]
    },
    {
     "data": {
      "application/vnd.jupyter.widget-view+json": {
       "model_id": "655452c64b86442ca4b5450804cb2c02",
       "version_major": 2,
       "version_minor": 0
      },
      "text/plain": [
       "Output()"
      ]
     },
     "metadata": {},
     "output_type": "display_data"
    },
    {
     "data": {
      "application/vnd.jupyter.widget-view+json": {
       "model_id": "908cdb845b8e42ab8b6d03ae2588b356",
       "version_major": 2,
       "version_minor": 0
      },
      "text/plain": [
       "Output()"
      ]
     },
     "metadata": {},
     "output_type": "display_data"
    },
    {
     "name": "stdout",
     "output_type": "stream",
     "text": [
      "[기재정정]분기보고서 (2019.03)\n"
     ]
    },
    {
     "data": {
      "application/vnd.jupyter.widget-view+json": {
       "model_id": "444cd5a7b26149ac8f75d9a36b50d9c3",
       "version_major": 2,
       "version_minor": 0
      },
      "text/plain": [
       "Output()"
      ]
     },
     "metadata": {},
     "output_type": "display_data"
    },
    {
     "data": {
      "application/vnd.jupyter.widget-view+json": {
       "model_id": "e59af59f9c5e437fae5967b2a9cdaa2a",
       "version_major": 2,
       "version_minor": 0
      },
      "text/plain": [
       "Output()"
      ]
     },
     "metadata": {},
     "output_type": "display_data"
    },
    {
     "name": "stdout",
     "output_type": "stream",
     "text": [
      "사업보고서 (2018.12)\n"
     ]
    },
    {
     "data": {
      "application/vnd.jupyter.widget-view+json": {
       "model_id": "197ecb6629e0442b8bf8fd474890fb2a",
       "version_major": 2,
       "version_minor": 0
      },
      "text/plain": [
       "Output()"
      ]
     },
     "metadata": {},
     "output_type": "display_data"
    },
    {
     "data": {
      "application/vnd.jupyter.widget-view+json": {
       "model_id": "b6f2013a6c684359a5db1f4d9cded9ea",
       "version_major": 2,
       "version_minor": 0
      },
      "text/plain": [
       "Output()"
      ]
     },
     "metadata": {},
     "output_type": "display_data"
    },
    {
     "name": "stdout",
     "output_type": "stream",
     "text": [
      "분기보고서 (2018.09)\n"
     ]
    },
    {
     "data": {
      "application/vnd.jupyter.widget-view+json": {
       "model_id": "7b1137c4e53f48588c37b11ce7fd1d6d",
       "version_major": 2,
       "version_minor": 0
      },
      "text/plain": [
       "Output()"
      ]
     },
     "metadata": {},
     "output_type": "display_data"
    },
    {
     "data": {
      "application/vnd.jupyter.widget-view+json": {
       "model_id": "ade6bd128ec941e49e9d29e1c5c6e91f",
       "version_major": 2,
       "version_minor": 0
      },
      "text/plain": [
       "Output()"
      ]
     },
     "metadata": {},
     "output_type": "display_data"
    },
    {
     "name": "stdout",
     "output_type": "stream",
     "text": [
      "503 011370 서한\n",
      "분기보고서 (2020.09)\n"
     ]
    },
    {
     "data": {
      "application/vnd.jupyter.widget-view+json": {
       "model_id": "2dee08c57d434c748a7087cb142b0540",
       "version_major": 2,
       "version_minor": 0
      },
      "text/plain": [
       "Output()"
      ]
     },
     "metadata": {},
     "output_type": "display_data"
    },
    {
     "data": {
      "application/vnd.jupyter.widget-view+json": {
       "model_id": "1e9947128e844cd687e37098ca653787",
       "version_major": 2,
       "version_minor": 0
      },
      "text/plain": [
       "Output()"
      ]
     },
     "metadata": {},
     "output_type": "display_data"
    },
    {
     "name": "stdout",
     "output_type": "stream",
     "text": [
      "반기보고서 (2020.06)\n"
     ]
    },
    {
     "data": {
      "application/vnd.jupyter.widget-view+json": {
       "model_id": "ac492a33345c49449aa31236b9915cb2",
       "version_major": 2,
       "version_minor": 0
      },
      "text/plain": [
       "Output()"
      ]
     },
     "metadata": {},
     "output_type": "display_data"
    },
    {
     "data": {
      "application/vnd.jupyter.widget-view+json": {
       "model_id": "2160cd7a69114944ab35a8f4b698c577",
       "version_major": 2,
       "version_minor": 0
      },
      "text/plain": [
       "Output()"
      ]
     },
     "metadata": {},
     "output_type": "display_data"
    },
    {
     "name": "stdout",
     "output_type": "stream",
     "text": [
      "분기보고서 (2020.03)\n"
     ]
    },
    {
     "data": {
      "application/vnd.jupyter.widget-view+json": {
       "model_id": "89d1e8bf4d514d988a453169920edfcc",
       "version_major": 2,
       "version_minor": 0
      },
      "text/plain": [
       "Output()"
      ]
     },
     "metadata": {},
     "output_type": "display_data"
    },
    {
     "data": {
      "application/vnd.jupyter.widget-view+json": {
       "model_id": "a57546b811b343b39b341b70d6546c6c",
       "version_major": 2,
       "version_minor": 0
      },
      "text/plain": [
       "Output()"
      ]
     },
     "metadata": {},
     "output_type": "display_data"
    },
    {
     "name": "stdout",
     "output_type": "stream",
     "text": [
      "사업보고서 (2019.12)\n"
     ]
    },
    {
     "data": {
      "application/vnd.jupyter.widget-view+json": {
       "model_id": "8981611891cf45c8a9166f9b0e0c2740",
       "version_major": 2,
       "version_minor": 0
      },
      "text/plain": [
       "Output()"
      ]
     },
     "metadata": {},
     "output_type": "display_data"
    },
    {
     "data": {
      "application/vnd.jupyter.widget-view+json": {
       "model_id": "cbc4341455c14f45afa3c3f2f102040f",
       "version_major": 2,
       "version_minor": 0
      },
      "text/plain": [
       "Output()"
      ]
     },
     "metadata": {},
     "output_type": "display_data"
    },
    {
     "name": "stdout",
     "output_type": "stream",
     "text": [
      "[기재정정]분기보고서 (2019.09)\n"
     ]
    },
    {
     "data": {
      "application/vnd.jupyter.widget-view+json": {
       "model_id": "8993f90912714b41aeebfb3a5d1e76ed",
       "version_major": 2,
       "version_minor": 0
      },
      "text/plain": [
       "Output()"
      ]
     },
     "metadata": {},
     "output_type": "display_data"
    },
    {
     "data": {
      "application/vnd.jupyter.widget-view+json": {
       "model_id": "559cd67a12ef4fc981c45e651b1eb78a",
       "version_major": 2,
       "version_minor": 0
      },
      "text/plain": [
       "Output()"
      ]
     },
     "metadata": {},
     "output_type": "display_data"
    },
    {
     "name": "stdout",
     "output_type": "stream",
     "text": [
      "반기보고서 (2019.06)\n"
     ]
    },
    {
     "data": {
      "application/vnd.jupyter.widget-view+json": {
       "model_id": "c31856e36601454bbd04556a1a0901ed",
       "version_major": 2,
       "version_minor": 0
      },
      "text/plain": [
       "Output()"
      ]
     },
     "metadata": {},
     "output_type": "display_data"
    },
    {
     "data": {
      "application/vnd.jupyter.widget-view+json": {
       "model_id": "9e22f99e38dc4e58bf64850504eb9fa2",
       "version_major": 2,
       "version_minor": 0
      },
      "text/plain": [
       "Output()"
      ]
     },
     "metadata": {},
     "output_type": "display_data"
    },
    {
     "name": "stdout",
     "output_type": "stream",
     "text": [
      "분기보고서 (2019.03)\n"
     ]
    },
    {
     "data": {
      "application/vnd.jupyter.widget-view+json": {
       "model_id": "8b8e9fafbd594db0b15dc2c6d4761ab0",
       "version_major": 2,
       "version_minor": 0
      },
      "text/plain": [
       "Output()"
      ]
     },
     "metadata": {},
     "output_type": "display_data"
    },
    {
     "data": {
      "application/vnd.jupyter.widget-view+json": {
       "model_id": "9aa246111e1e4a829339cf055363a8e3",
       "version_major": 2,
       "version_minor": 0
      },
      "text/plain": [
       "Output()"
      ]
     },
     "metadata": {},
     "output_type": "display_data"
    },
    {
     "name": "stdout",
     "output_type": "stream",
     "text": [
      "사업보고서 (2018.12)\n"
     ]
    },
    {
     "data": {
      "application/vnd.jupyter.widget-view+json": {
       "model_id": "24db47753dab45bb9a897534c8649a19",
       "version_major": 2,
       "version_minor": 0
      },
      "text/plain": [
       "Output()"
      ]
     },
     "metadata": {},
     "output_type": "display_data"
    },
    {
     "data": {
      "application/vnd.jupyter.widget-view+json": {
       "model_id": "c2f5de71a4fc4ee4b2ea742f7f45c46b",
       "version_major": 2,
       "version_minor": 0
      },
      "text/plain": [
       "Output()"
      ]
     },
     "metadata": {},
     "output_type": "display_data"
    },
    {
     "name": "stdout",
     "output_type": "stream",
     "text": [
      "분기보고서 (2018.09)\n"
     ]
    },
    {
     "data": {
      "application/vnd.jupyter.widget-view+json": {
       "model_id": "9ff6bb55fc8740319047bb7cdb082674",
       "version_major": 2,
       "version_minor": 0
      },
      "text/plain": [
       "Output()"
      ]
     },
     "metadata": {},
     "output_type": "display_data"
    },
    {
     "data": {
      "application/vnd.jupyter.widget-view+json": {
       "model_id": "307062a1ad0543afbcb6e2ea9a9a85a0",
       "version_major": 2,
       "version_minor": 0
      },
      "text/plain": [
       "Output()"
      ]
     },
     "metadata": {},
     "output_type": "display_data"
    },
    {
     "name": "stdout",
     "output_type": "stream",
     "text": [
      "504 011390 부산산업\n",
      "분기보고서 (2020.09)\n"
     ]
    },
    {
     "data": {
      "application/vnd.jupyter.widget-view+json": {
       "model_id": "0d2df4108b6c4d5daffd56e130326680",
       "version_major": 2,
       "version_minor": 0
      },
      "text/plain": [
       "Output()"
      ]
     },
     "metadata": {},
     "output_type": "display_data"
    },
    {
     "data": {
      "application/vnd.jupyter.widget-view+json": {
       "model_id": "56670afdc8d6426190a47625f49ec79f",
       "version_major": 2,
       "version_minor": 0
      },
      "text/plain": [
       "Output()"
      ]
     },
     "metadata": {},
     "output_type": "display_data"
    },
    {
     "name": "stdout",
     "output_type": "stream",
     "text": [
      "반기보고서 (2020.06)\n"
     ]
    },
    {
     "data": {
      "application/vnd.jupyter.widget-view+json": {
       "model_id": "6206bd2387a448e488a647451b72fb04",
       "version_major": 2,
       "version_minor": 0
      },
      "text/plain": [
       "Output()"
      ]
     },
     "metadata": {},
     "output_type": "display_data"
    },
    {
     "data": {
      "application/vnd.jupyter.widget-view+json": {
       "model_id": "53110ae98a4e4946bdf36714d1d77a51",
       "version_major": 2,
       "version_minor": 0
      },
      "text/plain": [
       "Output()"
      ]
     },
     "metadata": {},
     "output_type": "display_data"
    },
    {
     "name": "stdout",
     "output_type": "stream",
     "text": [
      "분기보고서 (2020.03)\n"
     ]
    },
    {
     "data": {
      "application/vnd.jupyter.widget-view+json": {
       "model_id": "e1824253a44447fca10e5adae631157d",
       "version_major": 2,
       "version_minor": 0
      },
      "text/plain": [
       "Output()"
      ]
     },
     "metadata": {},
     "output_type": "display_data"
    },
    {
     "data": {
      "application/vnd.jupyter.widget-view+json": {
       "model_id": "568e1737bb0e432f85a806224c0e6344",
       "version_major": 2,
       "version_minor": 0
      },
      "text/plain": [
       "Output()"
      ]
     },
     "metadata": {},
     "output_type": "display_data"
    },
    {
     "name": "stdout",
     "output_type": "stream",
     "text": [
      "사업보고서 (2019.12)\n"
     ]
    },
    {
     "data": {
      "application/vnd.jupyter.widget-view+json": {
       "model_id": "062e38a3a6fe4b61bec07ffc77d78f96",
       "version_major": 2,
       "version_minor": 0
      },
      "text/plain": [
       "Output()"
      ]
     },
     "metadata": {},
     "output_type": "display_data"
    },
    {
     "data": {
      "application/vnd.jupyter.widget-view+json": {
       "model_id": "aac73c754183455ab9952f7fee3f79cf",
       "version_major": 2,
       "version_minor": 0
      },
      "text/plain": [
       "Output()"
      ]
     },
     "metadata": {},
     "output_type": "display_data"
    },
    {
     "name": "stdout",
     "output_type": "stream",
     "text": [
      "분기보고서 (2019.09)\n"
     ]
    },
    {
     "data": {
      "application/vnd.jupyter.widget-view+json": {
       "model_id": "eb3ab7d3055740f5bee2709a41c711b3",
       "version_major": 2,
       "version_minor": 0
      },
      "text/plain": [
       "Output()"
      ]
     },
     "metadata": {},
     "output_type": "display_data"
    },
    {
     "data": {
      "application/vnd.jupyter.widget-view+json": {
       "model_id": "3f7e3053a2ff41b5995e55155db9f8ad",
       "version_major": 2,
       "version_minor": 0
      },
      "text/plain": [
       "Output()"
      ]
     },
     "metadata": {},
     "output_type": "display_data"
    },
    {
     "name": "stdout",
     "output_type": "stream",
     "text": [
      "반기보고서 (2019.06)\n"
     ]
    },
    {
     "data": {
      "application/vnd.jupyter.widget-view+json": {
       "model_id": "6a2886ee3bf64cadbd859d5c42188f86",
       "version_major": 2,
       "version_minor": 0
      },
      "text/plain": [
       "Output()"
      ]
     },
     "metadata": {},
     "output_type": "display_data"
    },
    {
     "data": {
      "application/vnd.jupyter.widget-view+json": {
       "model_id": "16b076abd06c44749283e4cd061901a5",
       "version_major": 2,
       "version_minor": 0
      },
      "text/plain": [
       "Output()"
      ]
     },
     "metadata": {},
     "output_type": "display_data"
    },
    {
     "name": "stdout",
     "output_type": "stream",
     "text": [
      "분기보고서 (2019.03)\n"
     ]
    },
    {
     "data": {
      "application/vnd.jupyter.widget-view+json": {
       "model_id": "6fad631bd1d24c8696eea6a9a8d83d74",
       "version_major": 2,
       "version_minor": 0
      },
      "text/plain": [
       "Output()"
      ]
     },
     "metadata": {},
     "output_type": "display_data"
    },
    {
     "data": {
      "application/vnd.jupyter.widget-view+json": {
       "model_id": "dfb3510a540c4c2c99172ee110a4cd6c",
       "version_major": 2,
       "version_minor": 0
      },
      "text/plain": [
       "Output()"
      ]
     },
     "metadata": {},
     "output_type": "display_data"
    },
    {
     "name": "stdout",
     "output_type": "stream",
     "text": [
      "사업보고서 (2018.12)\n"
     ]
    },
    {
     "data": {
      "application/vnd.jupyter.widget-view+json": {
       "model_id": "c6c4db879f4c466e89bf5e6d3cee9141",
       "version_major": 2,
       "version_minor": 0
      },
      "text/plain": [
       "Output()"
      ]
     },
     "metadata": {},
     "output_type": "display_data"
    },
    {
     "data": {
      "application/vnd.jupyter.widget-view+json": {
       "model_id": "ab0bb02e96064e169c899d3a0f5986ec",
       "version_major": 2,
       "version_minor": 0
      },
      "text/plain": [
       "Output()"
      ]
     },
     "metadata": {},
     "output_type": "display_data"
    },
    {
     "name": "stdout",
     "output_type": "stream",
     "text": [
      "분기보고서 (2018.09)\n"
     ]
    },
    {
     "data": {
      "application/vnd.jupyter.widget-view+json": {
       "model_id": "6b96e1bc06174c64b2b20d900c18381e",
       "version_major": 2,
       "version_minor": 0
      },
      "text/plain": [
       "Output()"
      ]
     },
     "metadata": {},
     "output_type": "display_data"
    },
    {
     "data": {
      "application/vnd.jupyter.widget-view+json": {
       "model_id": "38b6c50d94844a628b4960c126a7d89d",
       "version_major": 2,
       "version_minor": 0
      },
      "text/plain": [
       "Output()"
      ]
     },
     "metadata": {},
     "output_type": "display_data"
    },
    {
     "data": {
      "text/html": [
       "<div>\n",
       "<style scoped>\n",
       "    .dataframe tbody tr th:only-of-type {\n",
       "        vertical-align: middle;\n",
       "    }\n",
       "\n",
       "    .dataframe tbody tr th {\n",
       "        vertical-align: top;\n",
       "    }\n",
       "\n",
       "    .dataframe thead th {\n",
       "        text-align: right;\n",
       "    }\n",
       "</style>\n",
       "<table border=\"1\" class=\"dataframe\">\n",
       "  <thead>\n",
       "    <tr style=\"text-align: right;\">\n",
       "      <th></th>\n",
       "      <th>종목코드</th>\n",
       "      <th>종목명</th>\n",
       "      <th>구분</th>\n",
       "      <th>회계</th>\n",
       "      <th>년도</th>\n",
       "      <th>분기</th>\n",
       "      <th>단위</th>\n",
       "      <th>매출액</th>\n",
       "      <th>매출원가</th>\n",
       "      <th>매출총이익</th>\n",
       "      <th>...</th>\n",
       "      <th>지배주주순이익</th>\n",
       "      <th>자산총계</th>\n",
       "      <th>유동자산</th>\n",
       "      <th>재고자산</th>\n",
       "      <th>투자자산</th>\n",
       "      <th>부채총계</th>\n",
       "      <th>유동부채</th>\n",
       "      <th>자본총계</th>\n",
       "      <th>지배주주자본</th>\n",
       "      <th>매출채권</th>\n",
       "    </tr>\n",
       "  </thead>\n",
       "  <tbody>\n",
       "    <tr>\n",
       "      <th>0</th>\n",
       "      <td>011300</td>\n",
       "      <td>성안</td>\n",
       "      <td>분기</td>\n",
       "      <td>KIFRS별도</td>\n",
       "      <td>2020</td>\n",
       "      <td>3</td>\n",
       "      <td>KRW</td>\n",
       "      <td>4596454120.0</td>\n",
       "      <td>3968178751.0</td>\n",
       "      <td>628275369.0</td>\n",
       "      <td>...</td>\n",
       "      <td>nan</td>\n",
       "      <td>138253120093.0</td>\n",
       "      <td>29311256187.0</td>\n",
       "      <td>7408070939.0</td>\n",
       "      <td>13516568793.0</td>\n",
       "      <td>74790002090.0</td>\n",
       "      <td>45705979332.0</td>\n",
       "      <td>63463118003.0</td>\n",
       "      <td>nan</td>\n",
       "      <td>nan</td>\n",
       "    </tr>\n",
       "    <tr>\n",
       "      <th>1</th>\n",
       "      <td>011300</td>\n",
       "      <td>성안</td>\n",
       "      <td>분기</td>\n",
       "      <td>IFRS연결</td>\n",
       "      <td>2020</td>\n",
       "      <td>3</td>\n",
       "      <td>KRW</td>\n",
       "      <td>25028945482.0</td>\n",
       "      <td>28171371063.0</td>\n",
       "      <td>-3142425581.0</td>\n",
       "      <td>...</td>\n",
       "      <td>-6290614238.0</td>\n",
       "      <td>289313045332.0</td>\n",
       "      <td>138019018872.0</td>\n",
       "      <td>68432721769.0</td>\n",
       "      <td>13884445733.0</td>\n",
       "      <td>227238688001.0</td>\n",
       "      <td>163621978057.0</td>\n",
       "      <td>62074357331.0</td>\n",
       "      <td>51401507098.0</td>\n",
       "      <td>nan</td>\n",
       "    </tr>\n",
       "    <tr>\n",
       "      <th>2</th>\n",
       "      <td>011300</td>\n",
       "      <td>성안</td>\n",
       "      <td>3분기누적</td>\n",
       "      <td>KIFRS별도</td>\n",
       "      <td>2020</td>\n",
       "      <td>3</td>\n",
       "      <td>KRW</td>\n",
       "      <td>25923937562.0</td>\n",
       "      <td>23138111004.0</td>\n",
       "      <td>2785826558.0</td>\n",
       "      <td>...</td>\n",
       "      <td>nan</td>\n",
       "      <td>138253120093.0</td>\n",
       "      <td>29311256187.0</td>\n",
       "      <td>7408070939.0</td>\n",
       "      <td>13516568793.0</td>\n",
       "      <td>74790002090.0</td>\n",
       "      <td>45705979332.0</td>\n",
       "      <td>63463118003.0</td>\n",
       "      <td>nan</td>\n",
       "      <td>nan</td>\n",
       "    </tr>\n",
       "    <tr>\n",
       "      <th>3</th>\n",
       "      <td>011300</td>\n",
       "      <td>성안</td>\n",
       "      <td>3분기누적</td>\n",
       "      <td>IFRS연결</td>\n",
       "      <td>2020</td>\n",
       "      <td>3</td>\n",
       "      <td>KRW</td>\n",
       "      <td>97017024753.0</td>\n",
       "      <td>98193952533.0</td>\n",
       "      <td>-1176927780.0</td>\n",
       "      <td>...</td>\n",
       "      <td>-13515022767.0</td>\n",
       "      <td>289313045332.0</td>\n",
       "      <td>138019018872.0</td>\n",
       "      <td>68432721769.0</td>\n",
       "      <td>13884445733.0</td>\n",
       "      <td>227238688001.0</td>\n",
       "      <td>163621978057.0</td>\n",
       "      <td>62074357331.0</td>\n",
       "      <td>51401507098.0</td>\n",
       "      <td>nan</td>\n",
       "    </tr>\n",
       "    <tr>\n",
       "      <th>4</th>\n",
       "      <td>011300</td>\n",
       "      <td>성안</td>\n",
       "      <td>2분기누적</td>\n",
       "      <td>KIFRS별도</td>\n",
       "      <td>2020</td>\n",
       "      <td>2</td>\n",
       "      <td>KRW</td>\n",
       "      <td>nan</td>\n",
       "      <td>nan</td>\n",
       "      <td>nan</td>\n",
       "      <td>...</td>\n",
       "      <td>nan</td>\n",
       "      <td>138951712422.0</td>\n",
       "      <td>34005573439.0</td>\n",
       "      <td>7279241075.0</td>\n",
       "      <td>13595922425.0</td>\n",
       "      <td>74209473921.0</td>\n",
       "      <td>44095513410.0</td>\n",
       "      <td>64742238501.0</td>\n",
       "      <td>nan</td>\n",
       "      <td>nan</td>\n",
       "    </tr>\n",
       "    <tr>\n",
       "      <th>...</th>\n",
       "      <td>...</td>\n",
       "      <td>...</td>\n",
       "      <td>...</td>\n",
       "      <td>...</td>\n",
       "      <td>...</td>\n",
       "      <td>...</td>\n",
       "      <td>...</td>\n",
       "      <td>...</td>\n",
       "      <td>...</td>\n",
       "      <td>...</td>\n",
       "      <td>...</td>\n",
       "      <td>...</td>\n",
       "      <td>...</td>\n",
       "      <td>...</td>\n",
       "      <td>...</td>\n",
       "      <td>...</td>\n",
       "      <td>...</td>\n",
       "      <td>...</td>\n",
       "      <td>...</td>\n",
       "      <td>...</td>\n",
       "      <td>...</td>\n",
       "    </tr>\n",
       "    <tr>\n",
       "      <th>157</th>\n",
       "      <td>011390</td>\n",
       "      <td>부산산업</td>\n",
       "      <td>연간</td>\n",
       "      <td>KIFRS별도</td>\n",
       "      <td>2016</td>\n",
       "      <td>4</td>\n",
       "      <td>KRW</td>\n",
       "      <td>32206767107.0</td>\n",
       "      <td>26746734773.0</td>\n",
       "      <td>5460032334.0</td>\n",
       "      <td>...</td>\n",
       "      <td>nan</td>\n",
       "      <td>nan</td>\n",
       "      <td>nan</td>\n",
       "      <td>nan</td>\n",
       "      <td>nan</td>\n",
       "      <td>nan</td>\n",
       "      <td>nan</td>\n",
       "      <td>nan</td>\n",
       "      <td>nan</td>\n",
       "      <td>nan</td>\n",
       "    </tr>\n",
       "    <tr>\n",
       "      <th>158</th>\n",
       "      <td>011390</td>\n",
       "      <td>부산산업</td>\n",
       "      <td>분기</td>\n",
       "      <td>KIFRS별도</td>\n",
       "      <td>2018</td>\n",
       "      <td>3</td>\n",
       "      <td>KRW</td>\n",
       "      <td>7953642957.0</td>\n",
       "      <td>6477806970.0</td>\n",
       "      <td>1475835987.0</td>\n",
       "      <td>...</td>\n",
       "      <td>nan</td>\n",
       "      <td>47885454717.0</td>\n",
       "      <td>12645957474.0</td>\n",
       "      <td>447155051.0</td>\n",
       "      <td>nan</td>\n",
       "      <td>10559289845.0</td>\n",
       "      <td>7568517551.0</td>\n",
       "      <td>37326164872.0</td>\n",
       "      <td>nan</td>\n",
       "      <td>nan</td>\n",
       "    </tr>\n",
       "    <tr>\n",
       "      <th>159</th>\n",
       "      <td>011390</td>\n",
       "      <td>부산산업</td>\n",
       "      <td>분기</td>\n",
       "      <td>IFRS연결</td>\n",
       "      <td>2018</td>\n",
       "      <td>3</td>\n",
       "      <td>KRW</td>\n",
       "      <td>25843925319.0</td>\n",
       "      <td>22740637941.0</td>\n",
       "      <td>3103287378.0</td>\n",
       "      <td>...</td>\n",
       "      <td>253385352.0</td>\n",
       "      <td>125748119732.0</td>\n",
       "      <td>56288412615.0</td>\n",
       "      <td>25519109885.0</td>\n",
       "      <td>nan</td>\n",
       "      <td>55138970636.0</td>\n",
       "      <td>40343552014.0</td>\n",
       "      <td>70609149096.0</td>\n",
       "      <td>51685124245.0</td>\n",
       "      <td>nan</td>\n",
       "    </tr>\n",
       "    <tr>\n",
       "      <th>160</th>\n",
       "      <td>011390</td>\n",
       "      <td>부산산업</td>\n",
       "      <td>3분기누적</td>\n",
       "      <td>KIFRS별도</td>\n",
       "      <td>2018</td>\n",
       "      <td>3</td>\n",
       "      <td>KRW</td>\n",
       "      <td>24649158085.0</td>\n",
       "      <td>20149524295.0</td>\n",
       "      <td>4499633790.0</td>\n",
       "      <td>...</td>\n",
       "      <td>nan</td>\n",
       "      <td>47885454717.0</td>\n",
       "      <td>12645957474.0</td>\n",
       "      <td>447155051.0</td>\n",
       "      <td>nan</td>\n",
       "      <td>10559289845.0</td>\n",
       "      <td>7568517551.0</td>\n",
       "      <td>37326164872.0</td>\n",
       "      <td>nan</td>\n",
       "      <td>nan</td>\n",
       "    </tr>\n",
       "    <tr>\n",
       "      <th>161</th>\n",
       "      <td>011390</td>\n",
       "      <td>부산산업</td>\n",
       "      <td>3분기누적</td>\n",
       "      <td>IFRS연결</td>\n",
       "      <td>2018</td>\n",
       "      <td>3</td>\n",
       "      <td>KRW</td>\n",
       "      <td>82176319630.0</td>\n",
       "      <td>71088848979.0</td>\n",
       "      <td>11087470651.0</td>\n",
       "      <td>...</td>\n",
       "      <td>2004887106.0</td>\n",
       "      <td>125748119732.0</td>\n",
       "      <td>56288412615.0</td>\n",
       "      <td>25519109885.0</td>\n",
       "      <td>nan</td>\n",
       "      <td>55138970636.0</td>\n",
       "      <td>40343552014.0</td>\n",
       "      <td>70609149096.0</td>\n",
       "      <td>51685124245.0</td>\n",
       "      <td>nan</td>\n",
       "    </tr>\n",
       "  </tbody>\n",
       "</table>\n",
       "<p>162 rows × 22 columns</p>\n",
       "</div>"
      ],
      "text/plain": [
       "       종목코드   종목명     구분       회계    년도  분기   단위           매출액          매출원가  \\\n",
       "0    011300    성안     분기  KIFRS별도  2020   3  KRW  4596454120.0  3968178751.0   \n",
       "1    011300    성안     분기   IFRS연결  2020   3  KRW 25028945482.0 28171371063.0   \n",
       "2    011300    성안  3분기누적  KIFRS별도  2020   3  KRW 25923937562.0 23138111004.0   \n",
       "3    011300    성안  3분기누적   IFRS연결  2020   3  KRW 97017024753.0 98193952533.0   \n",
       "4    011300    성안  2분기누적  KIFRS별도  2020   2  KRW           nan           nan   \n",
       "..      ...   ...    ...      ...   ...  ..  ...           ...           ...   \n",
       "157  011390  부산산업     연간  KIFRS별도  2016   4  KRW 32206767107.0 26746734773.0   \n",
       "158  011390  부산산업     분기  KIFRS별도  2018   3  KRW  7953642957.0  6477806970.0   \n",
       "159  011390  부산산업     분기   IFRS연결  2018   3  KRW 25843925319.0 22740637941.0   \n",
       "160  011390  부산산업  3분기누적  KIFRS별도  2018   3  KRW 24649158085.0 20149524295.0   \n",
       "161  011390  부산산업  3분기누적   IFRS연결  2018   3  KRW 82176319630.0 71088848979.0   \n",
       "\n",
       "            매출총이익  ...        지배주주순이익           자산총계           유동자산  \\\n",
       "0     628275369.0  ...            nan 138253120093.0  29311256187.0   \n",
       "1   -3142425581.0  ...  -6290614238.0 289313045332.0 138019018872.0   \n",
       "2    2785826558.0  ...            nan 138253120093.0  29311256187.0   \n",
       "3   -1176927780.0  ... -13515022767.0 289313045332.0 138019018872.0   \n",
       "4             nan  ...            nan 138951712422.0  34005573439.0   \n",
       "..            ...  ...            ...            ...            ...   \n",
       "157  5460032334.0  ...            nan            nan            nan   \n",
       "158  1475835987.0  ...            nan  47885454717.0  12645957474.0   \n",
       "159  3103287378.0  ...    253385352.0 125748119732.0  56288412615.0   \n",
       "160  4499633790.0  ...            nan  47885454717.0  12645957474.0   \n",
       "161 11087470651.0  ...   2004887106.0 125748119732.0  56288412615.0   \n",
       "\n",
       "             재고자산          투자자산           부채총계           유동부채          자본총계  \\\n",
       "0    7408070939.0 13516568793.0  74790002090.0  45705979332.0 63463118003.0   \n",
       "1   68432721769.0 13884445733.0 227238688001.0 163621978057.0 62074357331.0   \n",
       "2    7408070939.0 13516568793.0  74790002090.0  45705979332.0 63463118003.0   \n",
       "3   68432721769.0 13884445733.0 227238688001.0 163621978057.0 62074357331.0   \n",
       "4    7279241075.0 13595922425.0  74209473921.0  44095513410.0 64742238501.0   \n",
       "..            ...           ...            ...            ...           ...   \n",
       "157           nan           nan            nan            nan           nan   \n",
       "158   447155051.0           nan  10559289845.0   7568517551.0 37326164872.0   \n",
       "159 25519109885.0           nan  55138970636.0  40343552014.0 70609149096.0   \n",
       "160   447155051.0           nan  10559289845.0   7568517551.0 37326164872.0   \n",
       "161 25519109885.0           nan  55138970636.0  40343552014.0 70609149096.0   \n",
       "\n",
       "           지배주주자본  매출채권  \n",
       "0             nan   nan  \n",
       "1   51401507098.0   nan  \n",
       "2             nan   nan  \n",
       "3   51401507098.0   nan  \n",
       "4             nan   nan  \n",
       "..            ...   ...  \n",
       "157           nan   nan  \n",
       "158           nan   nan  \n",
       "159 51685124245.0   nan  \n",
       "160           nan   nan  \n",
       "161 51685124245.0   nan  \n",
       "\n",
       "[162 rows x 22 columns]"
      ]
     },
     "execution_count": 53,
     "metadata": {},
     "output_type": "execute_result"
    }
   ],
   "source": [
    "# IS, BS 필요한 항목 가져오기 \n",
    "\n",
    "import dart_fss as dart\n",
    "from parse import * \n",
    "import pandas as pd\n",
    "import numpy as np\n",
    "import sqlalchemy as sql\n",
    "\n",
    "connect_string = 'mysql://quantk:znjsxm!!@@DB12@localhost:3377/quantk?charset=utf8'\n",
    "sql_engine = sql.create_engine(connect_string, encoding='utf-8')\n",
    "query = \"SELECT `종목코드`, `종목명` FROM `종목마스터`\"\n",
    "company_df = pd.read_sql_query(query, sql_engine)\n",
    "\n",
    "# Open DART API KEY 설정\n",
    "api_key='e939c83e5ca523aa19e6fc4b7763045dc2d46334'\n",
    "dart.set_api_key(api_key=api_key)\n",
    "\n",
    "# DART 에 공시된 회사 리스트 불러오기\n",
    "corp_list = dart.get_corp_list()\n",
    "\n",
    "def get_value(DF, value_list, number):\n",
    "    while True:\n",
    "        for values in value_list:\n",
    "            result = DF.loc[DF[DF.columns[0]] == values].iloc[:, number]\n",
    "            if not result.empty:\n",
    "                break\n",
    "        break \n",
    "    if result.empty:\n",
    "        return np.nan\n",
    "    else:\n",
    "        return result.iloc[0]\n",
    "\n",
    "def get_dict_value(dictionary, key, fin):\n",
    "    if not key in dictionary.keys():\n",
    "        if fin == 'IS':\n",
    "            return [np.nan, np.nan, np.nan, np.nan, np.nan, np.nan]\n",
    "        elif fin == 'BS':\n",
    "            return [np.nan, np.nan, np.nan, np.nan, np.nan, np.nan, np.nan, np.nan, np.nan]\n",
    "    else:\n",
    "        return dictionary[key]\n",
    "\n",
    "def change_to_DF(table):\n",
    "    try:\n",
    "        result_DF = table[0].to_DataFrame(show_class=False, separator=False)\n",
    "        return result_DF\n",
    "    except:\n",
    "        return pd.DataFrame()\n",
    "\n",
    "class empty_reports:\n",
    "    report_list = []\n",
    "    \n",
    "total_list = []\n",
    "\n",
    "for ix in range(0 , len(company_df)): \n",
    "    종목코드 = company_df.iloc[ix]['종목코드']\n",
    "    종목명 = company_df.iloc[ix]['종목명']\n",
    "    회사정보 = corp_list.find_by_stock_code(종목코드)\n",
    "    #print(ix, 종목코드, 종목명)\n",
    "    if not 회사정보 == None:\n",
    "        try:\n",
    "            reports = 회사정보.search_filings(bgn_de='20181001', pblntf_detail_ty=['a001', 'a002', 'a003'], page_count=100)\n",
    "            pop_list = []\n",
    "            for rpts in reports.report_list:\n",
    "                if '기재정정' in rpts.report_nm:\n",
    "                    타겟분기 = parse(\"{}({})\", rpts.report_nm)[1]\n",
    "                    for index,rptss in enumerate(reports.report_list):\n",
    "                        if '기재정정' not in rptss.report_nm and (parse(\"{}({})\", rptss.report_nm)[1] == 타겟분기):\n",
    "                            pop_list.append(index)\n",
    "            pop_list.sort(reverse=True)\n",
    "            for pop in pop_list:\n",
    "                reports.pop(index=pop)\n",
    "        except:\n",
    "            reports = empty_reports()\n",
    "            \n",
    "        for x, y in enumerate(reports.report_list):\n",
    "            선택날짜 = parse(\"{}({})\", y.report_nm)[1]\n",
    "            if 선택날짜 in ['2020.09', '2020.06', '2020.03', '2019.12', '2019.09', '2019.06', '2019.03', '2018.12', '2018.09']:\n",
    "                #print(y.report_nm)\n",
    "                xbrl = reports[x].xbrl\n",
    "                if not xbrl == None:\n",
    "                    if xbrl.exist_consolidated():\n",
    "                        IS = xbrl.get_income_statement(separate=False)\n",
    "                        BS = xbrl.get_financial_statement(separate=False)\n",
    "                        IS_DF = change_to_DF(IS)\n",
    "                        BS_DF = change_to_DF(BS)\n",
    "                        if not IS_DF.empty:\n",
    "                            if 선택날짜 in ['2020.09', '2019.09', '2018.09']:\n",
    "                                IS_DF = IS_DF[[IS_DF.columns[0], IS_DF.columns[3], IS_DF.columns[4], IS_DF.columns[5], IS_DF.columns[6]]]\n",
    "                            elif 선택날짜 == '2018.12':\n",
    "                                IS_DF = IS_DF.drop([IS_DF.columns[1], IS_DF.columns[2]], axis =1)\n",
    "                            else:\n",
    "                                IS_DF = IS_DF[[IS_DF.columns[0], IS_DF.columns[3], IS_DF.columns[4]]]\n",
    "                        if not BS_DF.empty:\n",
    "                            BS_DF = BS_DF[[BS_DF.columns[0], BS_DF.columns[3], BS_DF.columns[4]]]\n",
    "                    else:\n",
    "                        IS = xbrl.get_income_statement(separate=True)\n",
    "                        BS = xbrl.get_financial_statement(separate=True)\n",
    "                        IS_DF = change_to_DF(IS)\n",
    "                        BS_DF = change_to_DF(BS)\n",
    "                        if not IS_DF.empty:\n",
    "                            if 선택날짜 in ['2020.09', '2019.09', '2018.09']:\n",
    "                                IS_DF = IS_DF[[IS_DF.columns[0], IS_DF.columns[3], IS_DF.columns[4]]]\n",
    "                            elif 선택날짜 == '2018.12':\n",
    "                                IS_DF = IS_DF.drop([IS_DF.columns[1], IS_DF.columns[2]], axis =1)\n",
    "                            else:\n",
    "                                IS_DF = IS_DF[[IS_DF.columns[0], IS_DF.columns[3]]]\n",
    "                        if not BS_DF.empty:\n",
    "                            BS_DF = BS_DF[[BS_DF.columns[0], BS_DF.columns[3]]]\n",
    "                    \n",
    "                    if not IS_DF.empty:\n",
    "                        IS_unit_result = parse(\"{}(Unit: {})\", IS_DF.columns[0][0])[1]\n",
    "                    else:\n",
    "                        IS_unit_result = np.nan\n",
    "                    if not BS_DF.empty:    \n",
    "                        BS_unit_result = parse(\"{}(Unit: {})\", BS_DF.columns[0][0])[1]\n",
    "                    else:\n",
    "                        BS_unit_result = np.nan\n",
    "\n",
    "                    if IS_unit_result == BS_unit_result:\n",
    "                        pass\n",
    "                    else:\n",
    "                        print(IS_unit_result, BS_unit_result)\n",
    "                    \n",
    "                    IS_dict = {}\n",
    "                    BS_dict = {}\n",
    "\n",
    "                    for j in range(1, len(IS_DF.columns)):\n",
    "                        리포트이름 = reports[x].report_nm\n",
    "                        구분정보 = parse('{}보고서{}', 리포트이름)[0][-2:]\n",
    "                        구분딕트 = {'사업': '연간', '반기':'2분기누적', '분기':'3분기누적'}\n",
    "\n",
    "                        회계구분 = IS_DF.columns[j][1][0]\n",
    "                        회계딕트 = {'연결재무제표' : 'IFRS연결', '별도재무제표': 'KIFRS별도'}\n",
    "\n",
    "                        #기간정보 = IS_DF.columns[j][0]\n",
    "                        날짜정보 = parse('{}-{}', IS_DF.columns[j][0])\n",
    "                        시작분기 = pd.to_datetime(날짜정보[0]).quarter\n",
    "                        년도 = pd.to_datetime(날짜정보[1]).year\n",
    "                        분기 = pd.to_datetime(날짜정보[1]).quarter\n",
    "\n",
    "                        if 시작분기 == 분기:\n",
    "                            분기구분 = '분기'\n",
    "                        elif 시작분기 != 분기:\n",
    "                            분기구분 = 구분딕트[구분정보]\n",
    "\n",
    "                        매출 = get_value(IS_DF, ['ifrs_Revenue', 'ifrs-full_Revenue'], j)\n",
    "                        영업이익 = get_value(IS_DF, ['dart_OperatingIncomeLoss'], j)\n",
    "                        당기순이익 = get_value(IS_DF, ['ifrs_ProfitLoss', 'ifrs-full_ProfitLoss'], j)\n",
    "                        매출총이익 = get_value(IS_DF, ['ifrs_GrossProfit', 'ifrs-full_GrossProfit'], j)\n",
    "                        지배주주순이익 = get_value(IS_DF, ['ifrs_ProfitLossAttributableToOwnersOfParent', 'ifrs-full_ProfitLossAttributableToOwnersOfParent'], j)\n",
    "                        매출원가 = get_value(IS_DF, ['ifrs_CostOfSales', 'ifrs-full_CostOfSales'], j)\n",
    "                        IS_dict[(분기구분, 회계딕트[회계구분], 년도, 분기, IS_unit_result)] = [매출, 매출원가, 매출총이익, 영업이익, 당기순이익,지배주주순이익]\n",
    "                        \n",
    "                    for j in range(1, len(BS_DF.columns)):\n",
    "                        리포트이름 = reports[x].report_nm\n",
    "                        구분정보 = parse('{}보고서{}', 리포트이름)[0][-2:]\n",
    "                        구분딕트 = {4: '연간', 2:'2분기누적', 3:'3분기누적'}\n",
    "\n",
    "                        회계구분 = BS_DF.columns[j][1][0]\n",
    "                        회계딕트 = {'연결재무제표' : 'IFRS연결', '별도재무제표': 'KIFRS별도'}\n",
    "\n",
    "                        기간정보 = BS_DF.columns[j][0]\n",
    "                        년도 = pd.to_datetime(기간정보).year\n",
    "                        분기 = pd.to_datetime(기간정보).quarter\n",
    "\n",
    "                        if 분기 == 1:\n",
    "                            분기구분 = '분기'\n",
    "                        else: \n",
    "                            분기구분 = 구분딕트[분기]\n",
    "                            \n",
    "                        자산총계 = get_value(BS_DF, ['ifrs_Assets', 'ifrs-full_Assets'], j)\n",
    "                        유동자산 = get_value(BS_DF, ['ifrs_CurrentAssets', 'ifrs-full_CurrentAssets'], j)\n",
    "                        재고자산 = get_value(BS_DF, ['ifrs_Inventories', 'ifrs-full_Inventories'], j)\n",
    "                        투자자산 = get_value(BS_DF, ['ifrs-full_InvestmentsInSubsidiariesJointVenturesAndAssociates', 'ifrs_InvestmentsInSubsidiariesJointVenturesAndAssociates', 'ifrs_InvestmentProperty', 'ifrs-full_InvestmentProperty'], j)\n",
    "                        \n",
    "                        부채총계 = get_value(BS_DF, ['ifrs_Liabilities', 'ifrs-full_Liabilities'], j)\n",
    "                        유동부채 = get_value(BS_DF, ['ifrs_CurrentLiabilities', 'ifrs-full_CurrentLiabilities'], j)\n",
    "                        \n",
    "                        자본총계 = get_value(BS_DF, ['ifrs_Equity', 'ifrs-full_Equity'], j)\n",
    "                        지배주주자본 = get_value(BS_DF, ['ifrs_EquityAttributableToOwnersOfParent', 'ifrs-full_EquityAttributableToOwnersOfParent'], j)\n",
    "                        매출채권 = get_value(BS_DF, ['dart_ShortTermTradeReceivable'], j)\n",
    "                        \n",
    "                        if 분기 == 1 or 분기 == 2:\n",
    "                            BS_dict[('분기', 회계딕트[회계구분], 년도, 분기, BS_unit_result)] = [자산총계, 유동자산, 재고자산, 투자자산, 부채총계, 유동부채, 자본총계, 지배주주자본, 매출채권]\n",
    "                        elif 분기 ==3:\n",
    "                            BS_dict[(분기구분, 회계딕트[회계구분], 년도, 분기, BS_unit_result)] = [자산총계, 유동자산, 재고자산, 투자자산, 부채총계, 유동부채, 자본총계, 지배주주자본, 매출채권]\n",
    "                            BS_dict[('분기', 회계딕트[회계구분], 년도, 분기, BS_unit_result)] = [자산총계, 유동자산, 재고자산, 투자자산, 부채총계, 유동부채, 자본총계, 지배주주자본, 매출채권]\n",
    "                        else:\n",
    "                            BS_dict[(분기구분, 회계딕트[회계구분], 년도, 분기, BS_unit_result)] = [자산총계, 유동자산, 재고자산, 투자자산, 부채총계, 유동부채, 자본총계, 지배주주자본, 매출채권]\n",
    "                                                    \n",
    "                    date_set = set(list(IS_dict.keys()) + list(BS_dict.keys()))\n",
    "                    for x in date_set:\n",
    "                        result = [종목코드, 종목명]+list(x)+get_dict_value(IS_dict, x, 'IS')+get_dict_value(BS_dict, x, 'BS')\n",
    "                        total_list.append(result)\n",
    "\n",
    "dart_df = pd.DataFrame(total_list, columns= ['종목코드', '종목명', '구분', '회계', '년도', '분기', '단위', \n",
    "                                             '매출액', '매출원가', '매출총이익', '영업이익', '당기순이익','지배주주순이익',\n",
    "                                             '자산총계', '유동자산', '재고자산', '투자자산', '부채총계', '유동부채', '자본총계', '지배주주자본', '매출채권'])\n",
    "dart_df.insert(loc=0, column='No', value=None)\n",
    "No_list = []\n",
    "for i in range(0, len(dart_df)):\n",
    "    No_list.append(i+1)\n",
    "dart_df['No'] = No_list\n",
    "\n",
    "dtype = {\n",
    "   'No': sql.types.BIGINT(),\n",
    "    '종목코드': sql.types.VARCHAR(6), \n",
    "    '종목명': sql.types.VARCHAR(50), \n",
    "    '구분': sql.types.VARCHAR(11),\n",
    "    '회계': sql.types.VARCHAR(11),\n",
    "    '년도': sql.types.INTEGER(),\n",
    "    '분기': sql.types.INTEGER(), \n",
    "    '단위': sql.types.VARCHAR(11)\n",
    "}\n",
    "\n",
    "for i in list(dart_df.columns)[8:]:\n",
    "    dtype[i] = sql.types.FLOAT() \n",
    "    \n",
    "dart_df.to_sql(name=\"DART_크롤링데이터_rawdata\", con=sql_engine, if_exists='replace', index=False, \n",
    "             dtype = dtype)\n",
    "\n",
    "with sql_engine.connect() as con:\n",
    "    con.execute('ALTER TABLE `DART_크롤링데이터_rawdata` ADD PRIMARY KEY(`No`);')\n",
    "    con.execute('ALTER TABLE `DART_크롤링데이터_rawdata` CHANGE `No` `No` BIGINT(20) NOT NULL AUTO_INCREMENT;')\n",
    "    con.execute('ALTER TABLE `DART_크롤링데이터_rawdata` ADD INDEX(`종목코드`);')\n",
    "\n",
    "print(\"DART_크롤링데이터_rawdata 크롤링 완료\")"
   ]
  },
  {
   "cell_type": "code",
   "execution_count": 54,
   "metadata": {},
   "outputs": [],
   "source": [
    "dart_df.insert(loc=0, column='No', value=None)\n",
    "No_list = []\n",
    "for i in range(0, len(dart_df)):\n",
    "    No_list.append(i+1)\n",
    "dart_df['No'] = No_list\n",
    "\n",
    "dtype = {\n",
    "   'No': sql.types.BIGINT(),\n",
    "    '종목코드': sql.types.VARCHAR(6), \n",
    "    '종목명': sql.types.VARCHAR(50), \n",
    "    '구분': sql.types.VARCHAR(11),\n",
    "    '회계': sql.types.VARCHAR(11),\n",
    "    '년도': sql.types.INTEGER(),\n",
    "    '분기': sql.types.INTEGER(), \n",
    "    '단위': sql.types.VARCHAR(11), \n",
    "    '회계기간': sql.types.VARCHAR(50)\n",
    "}\n",
    "\n",
    "for i in list(dart_df.columns)[9:]:\n",
    "    dtype[i] = sql.types.FLOAT() \n",
    "    \n",
    "dart_df.to_sql(name=\"DART_크롤링데이터_rawdata\", con=sql_engine, if_exists='replace', index=False, \n",
    "             dtype = dtype)\n",
    "\n",
    "with sql_engine.connect() as con:\n",
    "    con.execute('ALTER TABLE `DART_크롤링데이터_rawdata` ADD PRIMARY KEY(`No`);')\n",
    "    con.execute('ALTER TABLE `DART_크롤링데이터_rawdata` CHANGE `No` `No` BIGINT(20) NOT NULL AUTO_INCREMENT;')\n",
    "    con.execute('ALTER TABLE `DART_크롤링데이터_rawdata` ADD INDEX(`종목코드`);')\n",
    "\n",
    "    "
   ]
  },
  {
   "cell_type": "code",
   "execution_count": null,
   "metadata": {},
   "outputs": [],
   "source": []
  }
 ],
 "metadata": {
  "kernelspec": {
   "display_name": "Python 3",
   "language": "python",
   "name": "python3"
  },
  "language_info": {
   "codemirror_mode": {
    "name": "ipython",
    "version": 3
   },
   "file_extension": ".py",
   "mimetype": "text/x-python",
   "name": "python",
   "nbconvert_exporter": "python",
   "pygments_lexer": "ipython3",
   "version": "3.8.5"
  }
 },
 "nbformat": 4,
 "nbformat_minor": 4
}
